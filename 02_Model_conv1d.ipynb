{
  "nbformat": 4,
  "nbformat_minor": 0,
  "metadata": {
    "colab": {
      "name": "02_Model_conv1d.ipynb",
      "provenance": [],
      "collapsed_sections": [],
      "include_colab_link": true
    },
    "kernelspec": {
      "display_name": "Python 3",
      "name": "python3"
    },
    "language_info": {
      "name": "python"
    }
  },
  "cells": [
    {
      "cell_type": "markdown",
      "metadata": {
        "id": "view-in-github",
        "colab_type": "text"
      },
      "source": [
        "<a href=\"https://colab.research.google.com/github/alexanderVarg/TRABAJO_FINAL/blob/main/02_Model_conv1d.ipynb\" target=\"_parent\"><img src=\"https://colab.research.google.com/assets/colab-badge.svg\" alt=\"Open In Colab\"/></a>"
      ]
    },
    {
      "cell_type": "markdown",
      "metadata": {
        "id": "YrA257EPL4UO"
      },
      "source": [
        "#PHYSICAL, CHEMICAL AND BIOLOGICAL VARIABLES FOR WATER QUALITY"
      ]
    },
    {
      "cell_type": "code",
      "metadata": {
        "id": "AWoZ1PJNHYjn"
      },
      "source": [
        "import numpy as np\n",
        "import pandas as pd\n",
        "import tensorflow as tf\n",
        "from tensorflow import keras\n",
        "from keras import layers\n",
        "from matplotlib import pyplot as plt"
      ],
      "execution_count": null,
      "outputs": []
    },
    {
      "cell_type": "code",
      "metadata": {
        "id": "66EC8QAtIg2_",
        "colab": {
          "base_uri": "https://localhost:8080/"
        },
        "outputId": "6a9733e1-80c3-4a69-f69e-47572bf94481"
      },
      "source": [
        "# read data\n",
        "df = pd.read_csv(\"/content/waterQuality_scaled.csv\")\n",
        "df.shape"
      ],
      "execution_count": null,
      "outputs": [
        {
          "output_type": "execute_result",
          "data": {
            "text/plain": [
              "(7996, 21)"
            ]
          },
          "metadata": {},
          "execution_count": 16
        }
      ]
    },
    {
      "cell_type": "code",
      "metadata": {
        "id": "KDXibawumF4g"
      },
      "source": [
        "# create dataset without response column\n",
        "df_x=df.iloc[:,0:20]\n",
        "# create dataset with only response column (is_safe)\n",
        "df_y = df.iloc[:,-1]\n"
      ],
      "execution_count": null,
      "outputs": []
    },
    {
      "cell_type": "markdown",
      "metadata": {
        "id": "r9_22cCItWro"
      },
      "source": [
        "# Variable selection\n",
        "All variables were used to train the model "
      ]
    },
    {
      "cell_type": "code",
      "source": [
        "from sklearn.model_selection import train_test_split\n",
        "df_x_train, df_x_test, y_train, y_test = train_test_split(df_x, df_y, test_size=.30)\n",
        "\n",
        "# the last 100 records of each data set are not evaluated:\n",
        "y_train = y_train.iloc[:-100]\n",
        "y_test= y_test.iloc[:-100]\n",
        "# Show the quantities of both classes: 0 and 1\n",
        "print (\"\\ndistribution of train classes\")\n",
        "print (pd.Series(y_train).value_counts())\n",
        "print (\"\\ndistribution of test classes\")\n",
        "print (pd.Series(y_test).value_counts())"
      ],
      "metadata": {
        "colab": {
          "base_uri": "https://localhost:8080/"
        },
        "id": "kSS9AaxGObgW",
        "outputId": "3f71a067-acb1-42a4-ceb2-e584b032c87e"
      },
      "execution_count": null,
      "outputs": [
        {
          "output_type": "stream",
          "name": "stdout",
          "text": [
            "\n",
            "distribution of train classes\n",
            "0.0    4874\n",
            "1.0     623\n",
            "Name: is_safe, dtype: int64\n",
            "\n",
            "distribution of test classes\n",
            "0.0    2034\n",
            "1.0     265\n",
            "Name: is_safe, dtype: int64\n"
          ]
        }
      ]
    },
    {
      "cell_type": "markdown",
      "metadata": {
        "id": "tiQhcWR-wJcB"
      },
      "source": [
        "# deep learning model"
      ]
    },
    {
      "cell_type": "markdown",
      "metadata": {
        "id": "LhcE35RTOadB"
      },
      "source": [
        "**Generate training sequences**\n",
        "\n",
        "The data is in the form (n_samples, n_features) and must be transformed to the form (n_samples, n_times, n_features) with a window n_times equal to 100 samples."
      ]
    },
    {
      "cell_type": "code",
      "metadata": {
        "id": "3RiN4s3pVbyV",
        "colab": {
          "base_uri": "https://localhost:8080/",
          "height": 317
        },
        "outputId": "d9b92d39-db92-4d60-8cfc-73512e0241b9"
      },
      "source": [
        "from IPython.display import Image\n",
        "Image('/content/Transformar_datos.PNG', width=600, height=300)"
      ],
      "execution_count": null,
      "outputs": [
        {
          "output_type": "execute_result",
          "data": {
            "text/plain": [
              "<IPython.core.display.Image object>"
            ],
            "image/png": "[encoded data removed]"
          },
          "metadata": {
            "image/png": {
              "width": 600,
              "height": 300
            }
          },
          "execution_count": 20
        }
      ]
    },
    {
      "cell_type": "code",
      "metadata": {
        "id": "zbLItxCRgAwv"
      },
      "source": [
        "# Generate training sequence\n",
        "def create_sequences(values, n_samples, n_times, n_features):\n",
        "    output = np.zeros( (n_samples-n_times, n_times, n_features) )\n",
        "    for j in range(1, n_features):\n",
        "        features = []\n",
        "        for i in range(n_samples - n_times):\n",
        "            output[i,:,j]=values[i : (i + n_times),j]\n",
        "    return output"
      ],
      "execution_count": null,
      "outputs": []
    },
    {
      "cell_type": "code",
      "metadata": {
        "id": "4EVTq-geRgMb"
      },
      "source": [
        "# Model CONV1D\n",
        "def model1(X):\n",
        "    import tensorflow as tf\n",
        "    from numpy import array\n",
        "    from keras.models import Sequential\n",
        "    from keras.layers import Dense\n",
        "    from keras.layers import Flatten\n",
        "    from keras.layers.convolutional import Conv1D\n",
        "    from keras.layers.convolutional import MaxPooling1D\n",
        "    model = keras.Sequential(\n",
        "        [ \n",
        "            layers.Conv1D( filters=32, kernel_size=3, padding=\"same\", strides=1, activation=\"relu\", input_shape=(x_train.shape[1], x_train.shape[2])),\n",
        "            layers.Dropout(rate=0.2), \n",
        "            layers.Conv1D( filters=16, kernel_size=3, padding=\"same\", strides=1, activation=\"relu\" ),\n",
        "            layers.Dropout(rate=0.2), \n",
        "            layers.Conv1D( filters=8, kernel_size=3, padding=\"same\", strides=1, activation=\"relu\" ),\n",
        "            layers.Dropout(rate=0.2), \n",
        "            layers.Flatten(),\n",
        "            layers.Dense( 1, activation= 'sigmoid')  \n",
        "        ]\n",
        "    )\n",
        "    return model\n",
        "    "
      ],
      "execution_count": null,
      "outputs": []
    },
    {
      "cell_type": "code",
      "source": [
        "model= model1(x_train)"
      ],
      "metadata": {
        "id": "4Zhv34i3VcbT"
      },
      "execution_count": null,
      "outputs": []
    },
    {
      "cell_type": "code",
      "source": [
        "model.summary()"
      ],
      "metadata": {
        "id": "3ukDYfzP9t_7",
        "colab": {
          "base_uri": "https://localhost:8080/"
        },
        "outputId": "4ccc0625-557a-4535-efc1-1befb82c18fc"
      },
      "execution_count": null,
      "outputs": [
        {
          "output_type": "stream",
          "name": "stdout",
          "text": [
            "Model: \"sequential_1\"\n",
            "_________________________________________________________________\n",
            " Layer (type)                Output Shape              Param #   \n",
            "=================================================================\n",
            " conv1d_3 (Conv1D)           (None, 100, 32)           1952      \n",
            "                                                                 \n",
            " dropout_3 (Dropout)         (None, 100, 32)           0         \n",
            "                                                                 \n",
            " conv1d_4 (Conv1D)           (None, 100, 16)           1552      \n",
            "                                                                 \n",
            " dropout_4 (Dropout)         (None, 100, 16)           0         \n",
            "                                                                 \n",
            " conv1d_5 (Conv1D)           (None, 100, 8)            392       \n",
            "                                                                 \n",
            " dropout_5 (Dropout)         (None, 100, 8)            0         \n",
            "                                                                 \n",
            " flatten_1 (Flatten)         (None, 800)               0         \n",
            "                                                                 \n",
            " dense_1 (Dense)             (None, 1)                 801       \n",
            "                                                                 \n",
            "=================================================================\n",
            "Total params: 4,697\n",
            "Trainable params: 4,697\n",
            "Non-trainable params: 0\n",
            "_________________________________________________________________\n"
          ]
        }
      ]
    },
    {
      "cell_type": "code",
      "metadata": {
        "id": "fRMIyRAd0Ol8",
        "colab": {
          "base_uri": "https://localhost:8080/"
        },
        "outputId": "7b393930-2784-4c95-d25a-1a6eae7f5fc6"
      },
      "source": [
        "# Generate x_train sequence so that the model can determine the shape of the input and output\n",
        "df_training = np.array(df_x_train)\n",
        "N_SAMPLES= df_training.shape[0] \n",
        "N_TIMES = 100 \n",
        "N_FEATURES = df_training.shape[1]  \n",
        "x_train= create_sequences(df_training, N_SAMPLES, N_TIMES, N_FEATURES)\n",
        "x_train = x_train.astype(np.float32)\n",
        "x_train.shape"
      ],
      "execution_count": null,
      "outputs": [
        {
          "output_type": "execute_result",
          "data": {
            "text/plain": [
              "(5497, 100, 20)"
            ]
          },
          "metadata": {},
          "execution_count": 12
        }
      ]
    },
    {
      "cell_type": "code",
      "source": [
        "# Generate x_test sequence \n",
        "df_testing = np.array(df_x_test)\n",
        "N_SAMPLES= df_testing.shape[0] \n",
        "N_TIMES = 100 \n",
        "N_FEATURES = df_testing.shape[1]  \n",
        "x_test= create_sequences(df_testing, N_SAMPLES, N_TIMES, N_FEATURES)\n",
        "x_test = x_test.astype(np.float32)\n",
        "x_test.shape"
      ],
      "metadata": {
        "colab": {
          "base_uri": "https://localhost:8080/"
        },
        "id": "WUGYT2CvcRdb",
        "outputId": "de61660f-3617-4eaf-b98f-b1f858da39bb"
      },
      "execution_count": null,
      "outputs": [
        {
          "output_type": "execute_result",
          "data": {
            "text/plain": [
              "(2299, 100, 20)"
            ]
          },
          "metadata": {},
          "execution_count": 25
        }
      ]
    },
    {
      "cell_type": "markdown",
      "metadata": {
        "id": "diYUwvQPXizY"
      },
      "source": [
        "**Compile the model**"
      ]
    },
    {
      "cell_type": "code",
      "source": [
        "model= model1(x_train)\n",
        "model.compile(optimizer=keras.optimizers.Adam(learning_rate=1e-6), loss=\"mse\", metrics=['accuracy'])\n"
      ],
      "metadata": {
        "id": "8MXSxf1yxGmb"
      },
      "execution_count": null,
      "outputs": []
    },
    {
      "cell_type": "code",
      "source": [
        "#train the model"
      ],
      "metadata": {
        "id": "SjiwU_UT2kaM"
      },
      "execution_count": null,
      "outputs": []
    },
    {
      "cell_type": "code",
      "source": [
        "history = model.fit(\n",
        "            x_train,\n",
        "            y_train,\n",
        "            epochs = 100,\n",
        "            batch_size=100,\n",
        "            validation_split=0.2,\n",
        "            callbacks=[keras.callbacks.EarlyStopping(monitor=\"val_loss\", patience=5, mode=\"min\")]\n",
        "        ) "
      ],
      "metadata": {
        "colab": {
          "base_uri": "https://localhost:8080/"
        },
        "id": "AWN7JlOixPvP",
        "outputId": "a676460e-717d-4631-c095-48f998de4821"
      },
      "execution_count": null,
      "outputs": [
        {
          "output_type": "stream",
          "name": "stdout",
          "text": [
            "Epoch 1/100\n",
            "44/44 [==============================] - 2s 31ms/step - loss: 0.2812 - accuracy: 0.3907 - val_loss: 0.2742 - val_accuracy: 0.3055\n",
            "Epoch 2/100\n",
            "44/44 [==============================] - 1s 28ms/step - loss: 0.2764 - accuracy: 0.4076 - val_loss: 0.2722 - val_accuracy: 0.3164\n",
            "Epoch 3/100\n",
            "44/44 [==============================] - 1s 28ms/step - loss: 0.2773 - accuracy: 0.4005 - val_loss: 0.2703 - val_accuracy: 0.3282\n",
            "Epoch 4/100\n",
            "44/44 [==============================] - 1s 28ms/step - loss: 0.2730 - accuracy: 0.4151 - val_loss: 0.2685 - val_accuracy: 0.3409\n",
            "Epoch 5/100\n",
            "44/44 [==============================] - 1s 30ms/step - loss: 0.2710 - accuracy: 0.4321 - val_loss: 0.2666 - val_accuracy: 0.3609\n",
            "Epoch 6/100\n",
            "44/44 [==============================] - 1s 28ms/step - loss: 0.2693 - accuracy: 0.4387 - val_loss: 0.2648 - val_accuracy: 0.3691\n",
            "Epoch 7/100\n",
            "44/44 [==============================] - 1s 29ms/step - loss: 0.2687 - accuracy: 0.4414 - val_loss: 0.2630 - val_accuracy: 0.3827\n",
            "Epoch 8/100\n",
            "44/44 [==============================] - 1s 28ms/step - loss: 0.2641 - accuracy: 0.4630 - val_loss: 0.2612 - val_accuracy: 0.4036\n",
            "Epoch 9/100\n",
            "44/44 [==============================] - 1s 29ms/step - loss: 0.2659 - accuracy: 0.4469 - val_loss: 0.2594 - val_accuracy: 0.4164\n",
            "Epoch 10/100\n",
            "44/44 [==============================] - 1s 28ms/step - loss: 0.2650 - accuracy: 0.4558 - val_loss: 0.2576 - val_accuracy: 0.4245\n",
            "Epoch 11/100\n",
            "44/44 [==============================] - 1s 28ms/step - loss: 0.2605 - accuracy: 0.4740 - val_loss: 0.2559 - val_accuracy: 0.4391\n",
            "Epoch 12/100\n",
            "44/44 [==============================] - 1s 28ms/step - loss: 0.2567 - accuracy: 0.4906 - val_loss: 0.2542 - val_accuracy: 0.4618\n",
            "Epoch 13/100\n",
            "44/44 [==============================] - 1s 29ms/step - loss: 0.2569 - accuracy: 0.4951 - val_loss: 0.2525 - val_accuracy: 0.4900\n",
            "Epoch 14/100\n",
            "44/44 [==============================] - 1s 29ms/step - loss: 0.2539 - accuracy: 0.5167 - val_loss: 0.2508 - val_accuracy: 0.5082\n",
            "Epoch 15/100\n",
            "44/44 [==============================] - 1s 28ms/step - loss: 0.2536 - accuracy: 0.5140 - val_loss: 0.2491 - val_accuracy: 0.5200\n",
            "Epoch 16/100\n",
            "44/44 [==============================] - 1s 28ms/step - loss: 0.2527 - accuracy: 0.5238 - val_loss: 0.2474 - val_accuracy: 0.5391\n",
            "Epoch 17/100\n",
            "44/44 [==============================] - 1s 27ms/step - loss: 0.2509 - accuracy: 0.5290 - val_loss: 0.2458 - val_accuracy: 0.5545\n",
            "Epoch 18/100\n",
            "44/44 [==============================] - 1s 28ms/step - loss: 0.2472 - accuracy: 0.5449 - val_loss: 0.2441 - val_accuracy: 0.5664\n",
            "Epoch 19/100\n",
            "44/44 [==============================] - 1s 28ms/step - loss: 0.2458 - accuracy: 0.5592 - val_loss: 0.2425 - val_accuracy: 0.5782\n",
            "Epoch 20/100\n",
            "44/44 [==============================] - 1s 29ms/step - loss: 0.2449 - accuracy: 0.5556 - val_loss: 0.2408 - val_accuracy: 0.5991\n",
            "Epoch 21/100\n",
            "44/44 [==============================] - 1s 27ms/step - loss: 0.2443 - accuracy: 0.5533 - val_loss: 0.2392 - val_accuracy: 0.6227\n",
            "Epoch 22/100\n",
            "44/44 [==============================] - 1s 28ms/step - loss: 0.2403 - accuracy: 0.5811 - val_loss: 0.2376 - val_accuracy: 0.6382\n",
            "Epoch 23/100\n",
            "44/44 [==============================] - 1s 28ms/step - loss: 0.2391 - accuracy: 0.5906 - val_loss: 0.2360 - val_accuracy: 0.6582\n",
            "Epoch 24/100\n",
            "44/44 [==============================] - 1s 29ms/step - loss: 0.2375 - accuracy: 0.5954 - val_loss: 0.2343 - val_accuracy: 0.6727\n",
            "Epoch 25/100\n",
            "44/44 [==============================] - 1s 28ms/step - loss: 0.2341 - accuracy: 0.5988 - val_loss: 0.2328 - val_accuracy: 0.6918\n",
            "Epoch 26/100\n",
            "44/44 [==============================] - 1s 27ms/step - loss: 0.2350 - accuracy: 0.6100 - val_loss: 0.2312 - val_accuracy: 0.7018\n",
            "Epoch 27/100\n",
            "44/44 [==============================] - 1s 28ms/step - loss: 0.2337 - accuracy: 0.6120 - val_loss: 0.2296 - val_accuracy: 0.7082\n",
            "Epoch 28/100\n",
            "44/44 [==============================] - 1s 28ms/step - loss: 0.2298 - accuracy: 0.6313 - val_loss: 0.2280 - val_accuracy: 0.7155\n",
            "Epoch 29/100\n",
            "44/44 [==============================] - 1s 28ms/step - loss: 0.2294 - accuracy: 0.6352 - val_loss: 0.2265 - val_accuracy: 0.7300\n",
            "Epoch 30/100\n",
            "44/44 [==============================] - 1s 28ms/step - loss: 0.2271 - accuracy: 0.6411 - val_loss: 0.2249 - val_accuracy: 0.7427\n",
            "Epoch 31/100\n",
            "44/44 [==============================] - 1s 28ms/step - loss: 0.2276 - accuracy: 0.6427 - val_loss: 0.2233 - val_accuracy: 0.7545\n",
            "Epoch 32/100\n",
            "44/44 [==============================] - 1s 28ms/step - loss: 0.2249 - accuracy: 0.6570 - val_loss: 0.2218 - val_accuracy: 0.7682\n",
            "Epoch 33/100\n",
            "44/44 [==============================] - 1s 29ms/step - loss: 0.2210 - accuracy: 0.6816 - val_loss: 0.2203 - val_accuracy: 0.7782\n",
            "Epoch 34/100\n",
            "44/44 [==============================] - 1s 27ms/step - loss: 0.2221 - accuracy: 0.6659 - val_loss: 0.2187 - val_accuracy: 0.7827\n",
            "Epoch 35/100\n",
            "44/44 [==============================] - 1s 28ms/step - loss: 0.2201 - accuracy: 0.6839 - val_loss: 0.2171 - val_accuracy: 0.7891\n",
            "Epoch 36/100\n",
            "44/44 [==============================] - 1s 28ms/step - loss: 0.2168 - accuracy: 0.6875 - val_loss: 0.2156 - val_accuracy: 0.7982\n",
            "Epoch 37/100\n",
            "44/44 [==============================] - 1s 28ms/step - loss: 0.2167 - accuracy: 0.6977 - val_loss: 0.2141 - val_accuracy: 0.8082\n",
            "Epoch 38/100\n",
            "44/44 [==============================] - 1s 27ms/step - loss: 0.2148 - accuracy: 0.7089 - val_loss: 0.2125 - val_accuracy: 0.8164\n",
            "Epoch 39/100\n",
            "44/44 [==============================] - 1s 27ms/step - loss: 0.2123 - accuracy: 0.7169 - val_loss: 0.2110 - val_accuracy: 0.8200\n",
            "Epoch 40/100\n",
            "44/44 [==============================] - 1s 27ms/step - loss: 0.2139 - accuracy: 0.7059 - val_loss: 0.2095 - val_accuracy: 0.8245\n",
            "Epoch 41/100\n",
            "44/44 [==============================] - 1s 27ms/step - loss: 0.2101 - accuracy: 0.7230 - val_loss: 0.2079 - val_accuracy: 0.8345\n",
            "Epoch 42/100\n",
            "44/44 [==============================] - 1s 28ms/step - loss: 0.2092 - accuracy: 0.7248 - val_loss: 0.2064 - val_accuracy: 0.8391\n",
            "Epoch 43/100\n",
            "44/44 [==============================] - 1s 27ms/step - loss: 0.2071 - accuracy: 0.7355 - val_loss: 0.2049 - val_accuracy: 0.8473\n",
            "Epoch 44/100\n",
            "44/44 [==============================] - 1s 28ms/step - loss: 0.2047 - accuracy: 0.7451 - val_loss: 0.2033 - val_accuracy: 0.8545\n",
            "Epoch 45/100\n",
            "44/44 [==============================] - 1s 28ms/step - loss: 0.2042 - accuracy: 0.7375 - val_loss: 0.2018 - val_accuracy: 0.8582\n",
            "Epoch 46/100\n",
            "44/44 [==============================] - 1s 27ms/step - loss: 0.2038 - accuracy: 0.7491 - val_loss: 0.2003 - val_accuracy: 0.8636\n",
            "Epoch 47/100\n",
            "44/44 [==============================] - 1s 27ms/step - loss: 0.2009 - accuracy: 0.7637 - val_loss: 0.1988 - val_accuracy: 0.8636\n",
            "Epoch 48/100\n",
            "44/44 [==============================] - 1s 27ms/step - loss: 0.2000 - accuracy: 0.7637 - val_loss: 0.1973 - val_accuracy: 0.8636\n",
            "Epoch 49/100\n",
            "44/44 [==============================] - 1s 27ms/step - loss: 0.1970 - accuracy: 0.7687 - val_loss: 0.1958 - val_accuracy: 0.8655\n",
            "Epoch 50/100\n",
            "44/44 [==============================] - 1s 28ms/step - loss: 0.1966 - accuracy: 0.7683 - val_loss: 0.1943 - val_accuracy: 0.8691\n",
            "Epoch 51/100\n",
            "44/44 [==============================] - 1s 27ms/step - loss: 0.1945 - accuracy: 0.7798 - val_loss: 0.1928 - val_accuracy: 0.8718\n",
            "Epoch 52/100\n",
            "44/44 [==============================] - 1s 27ms/step - loss: 0.1940 - accuracy: 0.7717 - val_loss: 0.1913 - val_accuracy: 0.8755\n",
            "Epoch 53/100\n",
            "44/44 [==============================] - 1s 28ms/step - loss: 0.1934 - accuracy: 0.7842 - val_loss: 0.1898 - val_accuracy: 0.8764\n",
            "Epoch 54/100\n",
            "44/44 [==============================] - 1s 28ms/step - loss: 0.1896 - accuracy: 0.8028 - val_loss: 0.1883 - val_accuracy: 0.8764\n",
            "Epoch 55/100\n",
            "44/44 [==============================] - 1s 28ms/step - loss: 0.1895 - accuracy: 0.7958 - val_loss: 0.1868 - val_accuracy: 0.8791\n",
            "Epoch 56/100\n",
            "44/44 [==============================] - 1s 28ms/step - loss: 0.1879 - accuracy: 0.7990 - val_loss: 0.1854 - val_accuracy: 0.8800\n",
            "Epoch 57/100\n",
            "44/44 [==============================] - 1s 29ms/step - loss: 0.1861 - accuracy: 0.8012 - val_loss: 0.1839 - val_accuracy: 0.8800\n",
            "Epoch 58/100\n",
            "44/44 [==============================] - 1s 27ms/step - loss: 0.1840 - accuracy: 0.8101 - val_loss: 0.1824 - val_accuracy: 0.8809\n",
            "Epoch 59/100\n",
            "44/44 [==============================] - 1s 28ms/step - loss: 0.1852 - accuracy: 0.8058 - val_loss: 0.1809 - val_accuracy: 0.8800\n",
            "Epoch 60/100\n",
            "44/44 [==============================] - 1s 27ms/step - loss: 0.1826 - accuracy: 0.8149 - val_loss: 0.1794 - val_accuracy: 0.8818\n",
            "Epoch 61/100\n",
            "44/44 [==============================] - 1s 28ms/step - loss: 0.1808 - accuracy: 0.8181 - val_loss: 0.1780 - val_accuracy: 0.8818\n",
            "Epoch 62/100\n",
            "44/44 [==============================] - 1s 28ms/step - loss: 0.1795 - accuracy: 0.8226 - val_loss: 0.1765 - val_accuracy: 0.8818\n",
            "Epoch 63/100\n",
            "44/44 [==============================] - 1s 27ms/step - loss: 0.1780 - accuracy: 0.8274 - val_loss: 0.1751 - val_accuracy: 0.8809\n",
            "Epoch 64/100\n",
            "44/44 [==============================] - 1s 27ms/step - loss: 0.1779 - accuracy: 0.8228 - val_loss: 0.1736 - val_accuracy: 0.8809\n",
            "Epoch 65/100\n",
            "44/44 [==============================] - 1s 27ms/step - loss: 0.1748 - accuracy: 0.8299 - val_loss: 0.1722 - val_accuracy: 0.8809\n",
            "Epoch 66/100\n",
            "44/44 [==============================] - 1s 27ms/step - loss: 0.1741 - accuracy: 0.8312 - val_loss: 0.1708 - val_accuracy: 0.8818\n",
            "Epoch 67/100\n",
            "44/44 [==============================] - 1s 27ms/step - loss: 0.1710 - accuracy: 0.8399 - val_loss: 0.1694 - val_accuracy: 0.8818\n",
            "Epoch 68/100\n",
            "44/44 [==============================] - 1s 28ms/step - loss: 0.1714 - accuracy: 0.8349 - val_loss: 0.1680 - val_accuracy: 0.8827\n",
            "Epoch 69/100\n",
            "44/44 [==============================] - 1s 28ms/step - loss: 0.1687 - accuracy: 0.8499 - val_loss: 0.1666 - val_accuracy: 0.8827\n",
            "Epoch 70/100\n",
            "44/44 [==============================] - 1s 28ms/step - loss: 0.1667 - accuracy: 0.8458 - val_loss: 0.1652 - val_accuracy: 0.8827\n",
            "Epoch 71/100\n",
            "44/44 [==============================] - 1s 28ms/step - loss: 0.1669 - accuracy: 0.8465 - val_loss: 0.1638 - val_accuracy: 0.8836\n",
            "Epoch 72/100\n",
            "44/44 [==============================] - 1s 27ms/step - loss: 0.1658 - accuracy: 0.8479 - val_loss: 0.1625 - val_accuracy: 0.8836\n",
            "Epoch 73/100\n",
            "44/44 [==============================] - 1s 29ms/step - loss: 0.1647 - accuracy: 0.8531 - val_loss: 0.1611 - val_accuracy: 0.8836\n",
            "Epoch 74/100\n",
            "44/44 [==============================] - 1s 28ms/step - loss: 0.1634 - accuracy: 0.8551 - val_loss: 0.1598 - val_accuracy: 0.8836\n",
            "Epoch 75/100\n",
            "44/44 [==============================] - 1s 28ms/step - loss: 0.1604 - accuracy: 0.8576 - val_loss: 0.1584 - val_accuracy: 0.8836\n",
            "Epoch 76/100\n",
            "44/44 [==============================] - 1s 28ms/step - loss: 0.1610 - accuracy: 0.8549 - val_loss: 0.1571 - val_accuracy: 0.8836\n",
            "Epoch 77/100\n",
            "44/44 [==============================] - 1s 27ms/step - loss: 0.1600 - accuracy: 0.8579 - val_loss: 0.1558 - val_accuracy: 0.8836\n",
            "Epoch 78/100\n",
            "44/44 [==============================] - 1s 27ms/step - loss: 0.1572 - accuracy: 0.8608 - val_loss: 0.1545 - val_accuracy: 0.8836\n",
            "Epoch 79/100\n",
            "44/44 [==============================] - 1s 28ms/step - loss: 0.1565 - accuracy: 0.8581 - val_loss: 0.1533 - val_accuracy: 0.8836\n",
            "Epoch 80/100\n",
            "44/44 [==============================] - 1s 28ms/step - loss: 0.1555 - accuracy: 0.8656 - val_loss: 0.1520 - val_accuracy: 0.8836\n",
            "Epoch 81/100\n",
            "44/44 [==============================] - 1s 28ms/step - loss: 0.1549 - accuracy: 0.8683 - val_loss: 0.1507 - val_accuracy: 0.8845\n",
            "Epoch 82/100\n",
            "44/44 [==============================] - 1s 28ms/step - loss: 0.1542 - accuracy: 0.8608 - val_loss: 0.1495 - val_accuracy: 0.8845\n",
            "Epoch 83/100\n",
            "44/44 [==============================] - 1s 28ms/step - loss: 0.1520 - accuracy: 0.8656 - val_loss: 0.1483 - val_accuracy: 0.8845\n",
            "Epoch 84/100\n",
            "44/44 [==============================] - 1s 28ms/step - loss: 0.1504 - accuracy: 0.8676 - val_loss: 0.1471 - val_accuracy: 0.8845\n",
            "Epoch 85/100\n",
            "44/44 [==============================] - 1s 27ms/step - loss: 0.1490 - accuracy: 0.8699 - val_loss: 0.1459 - val_accuracy: 0.8845\n",
            "Epoch 86/100\n",
            "44/44 [==============================] - 1s 28ms/step - loss: 0.1464 - accuracy: 0.8704 - val_loss: 0.1447 - val_accuracy: 0.8845\n",
            "Epoch 87/100\n",
            "44/44 [==============================] - 1s 28ms/step - loss: 0.1478 - accuracy: 0.8731 - val_loss: 0.1436 - val_accuracy: 0.8845\n",
            "Epoch 88/100\n",
            "44/44 [==============================] - 1s 27ms/step - loss: 0.1457 - accuracy: 0.8706 - val_loss: 0.1425 - val_accuracy: 0.8845\n",
            "Epoch 89/100\n",
            "44/44 [==============================] - 1s 28ms/step - loss: 0.1432 - accuracy: 0.8747 - val_loss: 0.1413 - val_accuracy: 0.8845\n",
            "Epoch 90/100\n",
            "44/44 [==============================] - 1s 28ms/step - loss: 0.1443 - accuracy: 0.8736 - val_loss: 0.1402 - val_accuracy: 0.8845\n",
            "Epoch 91/100\n",
            "44/44 [==============================] - 1s 27ms/step - loss: 0.1419 - accuracy: 0.8788 - val_loss: 0.1392 - val_accuracy: 0.8845\n",
            "Epoch 92/100\n",
            "44/44 [==============================] - 1s 28ms/step - loss: 0.1405 - accuracy: 0.8783 - val_loss: 0.1381 - val_accuracy: 0.8845\n",
            "Epoch 93/100\n",
            "44/44 [==============================] - 1s 28ms/step - loss: 0.1393 - accuracy: 0.8776 - val_loss: 0.1370 - val_accuracy: 0.8845\n",
            "Epoch 94/100\n",
            "44/44 [==============================] - 1s 28ms/step - loss: 0.1404 - accuracy: 0.8770 - val_loss: 0.1360 - val_accuracy: 0.8845\n",
            "Epoch 95/100\n",
            "44/44 [==============================] - 1s 28ms/step - loss: 0.1368 - accuracy: 0.8779 - val_loss: 0.1350 - val_accuracy: 0.8845\n",
            "Epoch 96/100\n",
            "44/44 [==============================] - 1s 27ms/step - loss: 0.1378 - accuracy: 0.8799 - val_loss: 0.1340 - val_accuracy: 0.8845\n",
            "Epoch 97/100\n",
            "44/44 [==============================] - 1s 27ms/step - loss: 0.1383 - accuracy: 0.8774 - val_loss: 0.1331 - val_accuracy: 0.8845\n",
            "Epoch 98/100\n",
            "44/44 [==============================] - 1s 27ms/step - loss: 0.1346 - accuracy: 0.8795 - val_loss: 0.1321 - val_accuracy: 0.8845\n",
            "Epoch 99/100\n",
            "44/44 [==============================] - 1s 27ms/step - loss: 0.1333 - accuracy: 0.8795 - val_loss: 0.1312 - val_accuracy: 0.8845\n",
            "Epoch 100/100\n",
            "44/44 [==============================] - 1s 27ms/step - loss: 0.1334 - accuracy: 0.8811 - val_loss: 0.1303 - val_accuracy: 0.8845\n"
          ]
        }
      ]
    },
    {
      "cell_type": "code",
      "source": [
        "plt.plot(history.history['accuracy'])\n",
        "plt.plot(history.history['val_accuracy'])\n",
        "plt.title('model accuracy')\n",
        "plt.ylabel('accuracy')\n",
        "plt.xlabel('epoch')\n",
        "plt.legend(['train', 'test'], loc='upper left')\n",
        "plt.show()\n",
        "# summarize history for loss\n",
        "plt.plot(history.history['loss'])\n",
        "plt.plot(history.history['val_loss'])\n",
        "plt.title('model loss')\n",
        "plt.ylabel('loss')\n",
        "plt.xlabel('epoch')\n",
        "plt.legend(['train', 'test'], loc='upper left')\n",
        "plt.show()"
      ],
      "metadata": {
        "id": "o821NyjmfOZN",
        "colab": {
          "base_uri": "https://localhost:8080/",
          "height": 573
        },
        "outputId": "59563486-1596-4964-9f01-ac59d57bacce"
      },
      "execution_count": null,
      "outputs": [
        {
          "output_type": "display_data",
          "data": {
            "text/plain": [
              "<Figure size 432x288 with 1 Axes>"
            ],
            "image/png": "[encoded data removed]"
          },
          "metadata": {
            "needs_background": "light"
          }
        },
        {
          "output_type": "display_data",
          "data": {
            "text/plain": [
              "<Figure size 432x288 with 1 Axes>"
            ],
            "image/png": "[encoded data removed]"
          },
          "metadata": {
            "needs_background": "light"
          }
        }
      ]
    },
    {
      "cell_type": "code",
      "source": [
        "test_preds = model.predict(x_test).argmax(axis=1)\n",
        "confusion = tf.math.confusion_matrix(labels=y_test, predictions=test_preds, num_classes=2)\n",
        "print(confusion)"
      ],
      "metadata": {
        "colab": {
          "base_uri": "https://localhost:8080/"
        },
        "id": "3kdppLrNmUUA",
        "outputId": "069a6400-8df4-42e2-8d15-55d00ce74b7e"
      },
      "execution_count": null,
      "outputs": [
        {
          "output_type": "stream",
          "name": "stdout",
          "text": [
            "tf.Tensor(\n",
            "[[2034    0]\n",
            " [ 265    0]], shape=(2, 2), dtype=int32)\n"
          ]
        }
      ]
    }
  ]
}