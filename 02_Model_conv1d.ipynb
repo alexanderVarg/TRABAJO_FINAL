{
  "nbformat": 4,
  "nbformat_minor": 0,
  "metadata": {
    "colab": {
      "name": "02_Model_conv1d.ipynb",
      "provenance": [],
      "collapsed_sections": [],
      "include_colab_link": true
    },
    "kernelspec": {
      "display_name": "Python 3",
      "name": "python3"
    },
    "language_info": {
      "name": "python"
    }
  },
  "cells": [
    {
      "cell_type": "markdown",
      "metadata": {
        "id": "view-in-github",
        "colab_type": "text"
      },
      "source": [
        "<a href=\"https://colab.research.google.com/github/alexanderVarg/TRABAJO_FINAL/blob/main/02_Model_conv1d.ipynb\" target=\"_parent\"><img src=\"https://colab.research.google.com/assets/colab-badge.svg\" alt=\"Open In Colab\"/></a>"
      ]
    },
    {
      "cell_type": "markdown",
      "metadata": {
        "id": "YrA257EPL4UO"
      },
      "source": [
        "#PHYSICAL, CHEMICAL AND BIOLOGICAL VARIABLES FOR WATER QUALITY"
      ]
    },
    {
      "cell_type": "code",
      "metadata": {
        "id": "AWoZ1PJNHYjn"
      },
      "source": [
        "import numpy as np\n",
        "import pandas as pd\n",
        "import tensorflow as tf\n",
        "from tensorflow import keras\n",
        "from keras import layers\n",
        "from matplotlib import pyplot as plt"
      ],
      "execution_count": null,
      "outputs": []
    },
    {
      "cell_type": "code",
      "metadata": {
        "id": "66EC8QAtIg2_",
        "colab": {
          "base_uri": "https://localhost:8080/"
        },
        "outputId": "01ccf14d-d890-4e76-88ba-d46e0883134a"
      },
      "source": [
        "# read data\n",
        "df = pd.read_csv(\"/content/waterQuality_scaled.csv\")\n",
        "df.shape"
      ],
      "execution_count": null,
      "outputs": [
        {
          "output_type": "execute_result",
          "data": {
            "text/plain": [
              "(7996, 21)"
            ]
          },
          "metadata": {},
          "execution_count": 2
        }
      ]
    },
    {
      "cell_type": "code",
      "metadata": {
        "id": "KDXibawumF4g"
      },
      "source": [
        "# create dataset without response column\n",
        "df_x=df.iloc[:,0:20]\n",
        "# create dataset with only response column (is_safe)\n",
        "df_y = df.iloc[:,-1]\n"
      ],
      "execution_count": null,
      "outputs": []
    },
    {
      "cell_type": "markdown",
      "metadata": {
        "id": "r9_22cCItWro"
      },
      "source": [
        "# Variable selection\n",
        "All variables were used to train the model "
      ]
    },
    {
      "cell_type": "code",
      "source": [
        "from sklearn.model_selection import train_test_split\n",
        "df_x_train, df_x_test, y_train, y_test = train_test_split(df_x, df_y, test_size=.30)\n",
        "\n",
        "# the last 100 records of each data set are not evaluated:\n",
        "y_train = y_train.iloc[:-100]\n",
        "y_test= y_test.iloc[:-100]\n",
        "# Show the quantities of both classes: 0 and 1\n",
        "print (\"\\ndistribution of train classes\")\n",
        "print (pd.Series(y_train).value_counts())\n",
        "print (\"\\ndistribution of test classes\")\n",
        "print (pd.Series(y_test).value_counts())"
      ],
      "metadata": {
        "colab": {
          "base_uri": "https://localhost:8080/"
        },
        "id": "kSS9AaxGObgW",
        "outputId": "8f981062-d639-4623-f721-ae96f2ce17c0"
      },
      "execution_count": null,
      "outputs": [
        {
          "output_type": "stream",
          "name": "stdout",
          "text": [
            "\n",
            "distribution of train classes\n",
            "0.0    4869\n",
            "1.0     628\n",
            "Name: is_safe, dtype: int64\n",
            "\n",
            "distribution of test classes\n",
            "0.0    2040\n",
            "1.0     259\n",
            "Name: is_safe, dtype: int64\n"
          ]
        }
      ]
    },
    {
      "cell_type": "markdown",
      "metadata": {
        "id": "tiQhcWR-wJcB"
      },
      "source": [
        "# deep learning model"
      ]
    },
    {
      "cell_type": "markdown",
      "metadata": {
        "id": "LhcE35RTOadB"
      },
      "source": [
        "**Generate training sequences**\n",
        "\n",
        "The data is in the form (n_samples, n_features) and must be transformed to the form (n_samples, n_times, n_features) with a window n_times equal to 100 samples."
      ]
    },
    {
      "cell_type": "code",
      "metadata": {
        "id": "3RiN4s3pVbyV",
        "colab": {
          "base_uri": "https://localhost:8080/",
          "height": 317
        },
        "outputId": "27702f38-3116-4625-b160-ee7e90fdf8f8"
      },
      "source": [
        "from IPython.display import Image\n",
        "Image('/content/Transformar_datos.PNG', width=600, height=300)"
      ],
      "execution_count": null,
      "outputs": [
        {
          "output_type": "execute_result",
          "data": {
            "text/plain": [
              "<IPython.core.display.Image object>"
            ],
            "image/png": "[encoded data removed]"
          },
          "metadata": {
            "image/png": {
              "width": 600,
              "height": 300
            }
          },
          "execution_count": 5
        }
      ]
    },
    {
      "cell_type": "code",
      "metadata": {
        "id": "zbLItxCRgAwv"
      },
      "source": [
        "# Generate training sequence\n",
        "def create_sequences(values, n_samples, n_times, n_features):\n",
        "    output = np.zeros( (n_samples-n_times, n_times, n_features) )\n",
        "    for j in range(1, n_features):\n",
        "        features = []\n",
        "        for i in range(n_samples - n_times):\n",
        "            output[i,:,j]=values[i : (i + n_times),j]\n",
        "    return output"
      ],
      "execution_count": null,
      "outputs": []
    },
    {
      "cell_type": "code",
      "metadata": {
        "id": "4EVTq-geRgMb"
      },
      "source": [
        "# Model CONV1D\n",
        "def model1(X):\n",
        "    import tensorflow as tf\n",
        "    from numpy import array\n",
        "    from keras.models import Sequential\n",
        "    from keras.layers import Dense\n",
        "    from keras.layers import Flatten\n",
        "    from keras.layers.convolutional import Conv1D\n",
        "    from keras.layers.convolutional import MaxPooling1D\n",
        "    model = keras.Sequential(\n",
        "        [ \n",
        "            layers.Conv1D( filters=32, kernel_size=3, padding=\"same\", strides=1, activation=\"relu\", input_shape=(x_train.shape[1], x_train.shape[2])),\n",
        "            layers.Dropout(rate=0.2), \n",
        "            layers.Conv1D( filters=16, kernel_size=3, padding=\"same\", strides=1, activation=\"relu\" ),\n",
        "            layers.Dropout(rate=0.2), \n",
        "            layers.Conv1D( filters=8, kernel_size=3, padding=\"same\", strides=1, activation=\"relu\" ),\n",
        "            layers.Dropout(rate=0.2), \n",
        "            layers.Flatten(),\n",
        "            layers.Dense( 1, activation= 'sigmoid')  \n",
        "        ]\n",
        "    )\n",
        "    return model\n",
        "    "
      ],
      "execution_count": null,
      "outputs": []
    },
    {
      "cell_type": "code",
      "metadata": {
        "id": "fRMIyRAd0Ol8",
        "colab": {
          "base_uri": "https://localhost:8080/"
        },
        "outputId": "b7013c73-b3e4-4fa3-c5af-31d35a85a14b"
      },
      "source": [
        "# Generate x_train sequence so that the model can determine the shape of the input and output\n",
        "df_training = np.array(df_x_train)\n",
        "N_SAMPLES= df_training.shape[0] \n",
        "N_TIMES = 100 \n",
        "N_FEATURES = df_training.shape[1]  \n",
        "x_train= create_sequences(df_training, N_SAMPLES, N_TIMES, N_FEATURES)\n",
        "x_train = x_train.astype(np.float32)\n",
        "x_train.shape"
      ],
      "execution_count": null,
      "outputs": [
        {
          "output_type": "execute_result",
          "data": {
            "text/plain": [
              "(5497, 100, 20)"
            ]
          },
          "metadata": {},
          "execution_count": 13
        }
      ]
    },
    {
      "cell_type": "code",
      "source": [
        "# Generate x_test sequence \n",
        "df_testing = np.array(df_x_test)\n",
        "N_SAMPLES= df_testing.shape[0] \n",
        "N_TIMES = 100 \n",
        "N_FEATURES = df_testing.shape[1]  \n",
        "x_test= create_sequences(df_testing, N_SAMPLES, N_TIMES, N_FEATURES)\n",
        "x_test = x_test.astype(np.float32)\n",
        "x_test.shape"
      ],
      "metadata": {
        "colab": {
          "base_uri": "https://localhost:8080/"
        },
        "id": "WUGYT2CvcRdb",
        "outputId": "85ef7b3c-11db-48ab-da36-f8f8ceb606dc"
      },
      "execution_count": null,
      "outputs": [
        {
          "output_type": "execute_result",
          "data": {
            "text/plain": [
              "(2299, 100, 20)"
            ]
          },
          "metadata": {},
          "execution_count": 14
        }
      ]
    },
    {
      "cell_type": "code",
      "source": [
        "model= model1(x_train)"
      ],
      "metadata": {
        "id": "C0LkyYKT6S2X"
      },
      "execution_count": null,
      "outputs": []
    },
    {
      "cell_type": "code",
      "source": [
        "model.summary()"
      ],
      "metadata": {
        "colab": {
          "base_uri": "https://localhost:8080/"
        },
        "id": "x1pZZ00L6bPR",
        "outputId": "1a8f8f59-a0ca-4e8d-823e-cff0e0176299"
      },
      "execution_count": null,
      "outputs": [
        {
          "output_type": "stream",
          "name": "stdout",
          "text": [
            "Model: \"sequential_1\"\n",
            "_________________________________________________________________\n",
            " Layer (type)                Output Shape              Param #   \n",
            "=================================================================\n",
            " conv1d_3 (Conv1D)           (None, 100, 32)           1952      \n",
            "                                                                 \n",
            " dropout_3 (Dropout)         (None, 100, 32)           0         \n",
            "                                                                 \n",
            " conv1d_4 (Conv1D)           (None, 100, 16)           1552      \n",
            "                                                                 \n",
            " dropout_4 (Dropout)         (None, 100, 16)           0         \n",
            "                                                                 \n",
            " conv1d_5 (Conv1D)           (None, 100, 8)            392       \n",
            "                                                                 \n",
            " dropout_5 (Dropout)         (None, 100, 8)            0         \n",
            "                                                                 \n",
            " flatten_1 (Flatten)         (None, 800)               0         \n",
            "                                                                 \n",
            " dense_1 (Dense)             (None, 1)                 801       \n",
            "                                                                 \n",
            "=================================================================\n",
            "Total params: 4,697\n",
            "Trainable params: 4,697\n",
            "Non-trainable params: 0\n",
            "_________________________________________________________________\n"
          ]
        }
      ]
    },
    {
      "cell_type": "markdown",
      "metadata": {
        "id": "diYUwvQPXizY"
      },
      "source": [
        "**Compile the model**"
      ]
    },
    {
      "cell_type": "code",
      "source": [
        "model= model1(x_train)\n",
        "model.compile(optimizer=keras.optimizers.Adam(learning_rate=1e-6), loss=\"mse\", metrics=['accuracy'])\n"
      ],
      "metadata": {
        "id": "8MXSxf1yxGmb"
      },
      "execution_count": null,
      "outputs": []
    },
    {
      "cell_type": "markdown",
      "source": [
        "#train the model"
      ],
      "metadata": {
        "id": "KKpfTIwh7i1T"
      }
    },
    {
      "cell_type": "code",
      "source": [
        "history = model.fit(\n",
        "            x_train,\n",
        "            y_train,\n",
        "            epochs = 100,\n",
        "            batch_size=100,\n",
        "            validation_split=0.2,\n",
        "            callbacks=[keras.callbacks.EarlyStopping(monitor=\"val_loss\", patience=5, mode=\"min\")]\n",
        "        ) "
      ],
      "metadata": {
        "colab": {
          "base_uri": "https://localhost:8080/"
        },
        "id": "AWN7JlOixPvP",
        "outputId": "f05a0156-dcca-4632-e38a-b1203fe78315"
      },
      "execution_count": null,
      "outputs": [
        {
          "output_type": "stream",
          "name": "stdout",
          "text": [
            "Epoch 1/100\n",
            "44/44 [==============================] - 3s 40ms/step - loss: 0.2903 - accuracy: 0.2900 - val_loss: 0.2774 - val_accuracy: 0.2209\n",
            "Epoch 2/100\n",
            "44/44 [==============================] - 2s 35ms/step - loss: 0.2897 - accuracy: 0.2895 - val_loss: 0.2766 - val_accuracy: 0.2282\n",
            "Epoch 3/100\n",
            "44/44 [==============================] - 2s 35ms/step - loss: 0.2878 - accuracy: 0.3059 - val_loss: 0.2758 - val_accuracy: 0.2355\n",
            "Epoch 4/100\n",
            "44/44 [==============================] - 1s 33ms/step - loss: 0.2869 - accuracy: 0.3002 - val_loss: 0.2751 - val_accuracy: 0.2427\n",
            "Epoch 5/100\n",
            "44/44 [==============================] - 1s 31ms/step - loss: 0.2861 - accuracy: 0.3113 - val_loss: 0.2743 - val_accuracy: 0.2482\n",
            "Epoch 6/100\n",
            "44/44 [==============================] - 1s 29ms/step - loss: 0.2840 - accuracy: 0.3211 - val_loss: 0.2736 - val_accuracy: 0.2518\n",
            "Epoch 7/100\n",
            "44/44 [==============================] - 1s 29ms/step - loss: 0.2849 - accuracy: 0.3118 - val_loss: 0.2729 - val_accuracy: 0.2555\n",
            "Epoch 8/100\n",
            "44/44 [==============================] - 1s 29ms/step - loss: 0.2843 - accuracy: 0.3193 - val_loss: 0.2721 - val_accuracy: 0.2609\n",
            "Epoch 9/100\n",
            "44/44 [==============================] - 1s 29ms/step - loss: 0.2849 - accuracy: 0.3125 - val_loss: 0.2714 - val_accuracy: 0.2673\n",
            "Epoch 10/100\n",
            "44/44 [==============================] - 1s 29ms/step - loss: 0.2830 - accuracy: 0.3191 - val_loss: 0.2707 - val_accuracy: 0.2709\n",
            "Epoch 11/100\n",
            "44/44 [==============================] - 1s 29ms/step - loss: 0.2822 - accuracy: 0.3280 - val_loss: 0.2701 - val_accuracy: 0.2764\n",
            "Epoch 12/100\n",
            "44/44 [==============================] - 1s 29ms/step - loss: 0.2804 - accuracy: 0.3286 - val_loss: 0.2694 - val_accuracy: 0.2827\n",
            "Epoch 13/100\n",
            "44/44 [==============================] - 1s 29ms/step - loss: 0.2781 - accuracy: 0.3441 - val_loss: 0.2687 - val_accuracy: 0.2891\n",
            "Epoch 14/100\n",
            "44/44 [==============================] - 1s 29ms/step - loss: 0.2764 - accuracy: 0.3609 - val_loss: 0.2681 - val_accuracy: 0.2945\n",
            "Epoch 15/100\n",
            "44/44 [==============================] - 1s 29ms/step - loss: 0.2779 - accuracy: 0.3473 - val_loss: 0.2674 - val_accuracy: 0.2964\n",
            "Epoch 16/100\n",
            "44/44 [==============================] - 1s 29ms/step - loss: 0.2753 - accuracy: 0.3600 - val_loss: 0.2668 - val_accuracy: 0.3009\n",
            "Epoch 17/100\n",
            "44/44 [==============================] - 1s 29ms/step - loss: 0.2746 - accuracy: 0.3632 - val_loss: 0.2662 - val_accuracy: 0.3073\n",
            "Epoch 18/100\n",
            "44/44 [==============================] - 1s 34ms/step - loss: 0.2747 - accuracy: 0.3571 - val_loss: 0.2656 - val_accuracy: 0.3191\n",
            "Epoch 19/100\n",
            "44/44 [==============================] - 1s 34ms/step - loss: 0.2740 - accuracy: 0.3662 - val_loss: 0.2650 - val_accuracy: 0.3245\n",
            "Epoch 20/100\n",
            "44/44 [==============================] - 1s 29ms/step - loss: 0.2725 - accuracy: 0.3757 - val_loss: 0.2644 - val_accuracy: 0.3309\n",
            "Epoch 21/100\n",
            "44/44 [==============================] - 1s 29ms/step - loss: 0.2726 - accuracy: 0.3648 - val_loss: 0.2638 - val_accuracy: 0.3318\n",
            "Epoch 22/100\n",
            "44/44 [==============================] - 1s 32ms/step - loss: 0.2721 - accuracy: 0.3743 - val_loss: 0.2632 - val_accuracy: 0.3373\n",
            "Epoch 23/100\n",
            "44/44 [==============================] - 1s 30ms/step - loss: 0.2712 - accuracy: 0.3823 - val_loss: 0.2626 - val_accuracy: 0.3473\n",
            "Epoch 24/100\n",
            "44/44 [==============================] - 1s 28ms/step - loss: 0.2700 - accuracy: 0.3844 - val_loss: 0.2620 - val_accuracy: 0.3536\n",
            "Epoch 25/100\n",
            "44/44 [==============================] - 1s 29ms/step - loss: 0.2694 - accuracy: 0.3916 - val_loss: 0.2614 - val_accuracy: 0.3600\n",
            "Epoch 26/100\n",
            "44/44 [==============================] - 1s 28ms/step - loss: 0.2675 - accuracy: 0.4005 - val_loss: 0.2609 - val_accuracy: 0.3682\n",
            "Epoch 27/100\n",
            "44/44 [==============================] - 1s 29ms/step - loss: 0.2674 - accuracy: 0.4037 - val_loss: 0.2603 - val_accuracy: 0.3745\n",
            "Epoch 28/100\n",
            "44/44 [==============================] - 1s 29ms/step - loss: 0.2651 - accuracy: 0.4157 - val_loss: 0.2598 - val_accuracy: 0.3809\n",
            "Epoch 29/100\n",
            "44/44 [==============================] - 1s 31ms/step - loss: 0.2664 - accuracy: 0.4089 - val_loss: 0.2592 - val_accuracy: 0.3827\n",
            "Epoch 30/100\n",
            "44/44 [==============================] - 1s 33ms/step - loss: 0.2655 - accuracy: 0.4132 - val_loss: 0.2587 - val_accuracy: 0.3855\n",
            "Epoch 31/100\n",
            "44/44 [==============================] - 1s 32ms/step - loss: 0.2653 - accuracy: 0.4141 - val_loss: 0.2581 - val_accuracy: 0.3945\n",
            "Epoch 32/100\n",
            "44/44 [==============================] - 1s 30ms/step - loss: 0.2643 - accuracy: 0.4285 - val_loss: 0.2576 - val_accuracy: 0.4073\n",
            "Epoch 33/100\n",
            "44/44 [==============================] - 1s 33ms/step - loss: 0.2632 - accuracy: 0.4317 - val_loss: 0.2570 - val_accuracy: 0.4127\n",
            "Epoch 34/100\n",
            "44/44 [==============================] - 1s 32ms/step - loss: 0.2625 - accuracy: 0.4321 - val_loss: 0.2565 - val_accuracy: 0.4209\n",
            "Epoch 35/100\n",
            "44/44 [==============================] - 1s 30ms/step - loss: 0.2626 - accuracy: 0.4323 - val_loss: 0.2560 - val_accuracy: 0.4255\n",
            "Epoch 36/100\n",
            "44/44 [==============================] - 1s 29ms/step - loss: 0.2612 - accuracy: 0.4451 - val_loss: 0.2554 - val_accuracy: 0.4345\n",
            "Epoch 37/100\n",
            "44/44 [==============================] - 1s 28ms/step - loss: 0.2602 - accuracy: 0.4587 - val_loss: 0.2549 - val_accuracy: 0.4382\n",
            "Epoch 38/100\n",
            "44/44 [==============================] - 1s 28ms/step - loss: 0.2603 - accuracy: 0.4478 - val_loss: 0.2544 - val_accuracy: 0.4436\n",
            "Epoch 39/100\n",
            "44/44 [==============================] - 1s 28ms/step - loss: 0.2599 - accuracy: 0.4621 - val_loss: 0.2539 - val_accuracy: 0.4500\n",
            "Epoch 40/100\n",
            "44/44 [==============================] - 1s 28ms/step - loss: 0.2586 - accuracy: 0.4530 - val_loss: 0.2533 - val_accuracy: 0.4582\n",
            "Epoch 41/100\n",
            "44/44 [==============================] - 1s 29ms/step - loss: 0.2575 - accuracy: 0.4603 - val_loss: 0.2528 - val_accuracy: 0.4664\n",
            "Epoch 42/100\n",
            "44/44 [==============================] - 1s 32ms/step - loss: 0.2570 - accuracy: 0.4740 - val_loss: 0.2523 - val_accuracy: 0.4764\n",
            "Epoch 43/100\n",
            "44/44 [==============================] - 1s 28ms/step - loss: 0.2568 - accuracy: 0.4749 - val_loss: 0.2518 - val_accuracy: 0.4855\n",
            "Epoch 44/100\n",
            "44/44 [==============================] - 1s 28ms/step - loss: 0.2558 - accuracy: 0.4810 - val_loss: 0.2513 - val_accuracy: 0.4927\n",
            "Epoch 45/100\n",
            "44/44 [==============================] - 1s 29ms/step - loss: 0.2542 - accuracy: 0.5078 - val_loss: 0.2508 - val_accuracy: 0.5009\n",
            "Epoch 46/100\n",
            "44/44 [==============================] - 1s 31ms/step - loss: 0.2535 - accuracy: 0.5022 - val_loss: 0.2503 - val_accuracy: 0.5136\n",
            "Epoch 47/100\n",
            "44/44 [==============================] - 1s 28ms/step - loss: 0.2532 - accuracy: 0.4960 - val_loss: 0.2497 - val_accuracy: 0.5145\n",
            "Epoch 48/100\n",
            "44/44 [==============================] - 1s 29ms/step - loss: 0.2514 - accuracy: 0.5142 - val_loss: 0.2492 - val_accuracy: 0.5227\n",
            "Epoch 49/100\n",
            "44/44 [==============================] - 1s 29ms/step - loss: 0.2514 - accuracy: 0.5110 - val_loss: 0.2487 - val_accuracy: 0.5300\n",
            "Epoch 50/100\n",
            "44/44 [==============================] - 1s 31ms/step - loss: 0.2518 - accuracy: 0.5085 - val_loss: 0.2482 - val_accuracy: 0.5355\n",
            "Epoch 51/100\n",
            "44/44 [==============================] - 1s 33ms/step - loss: 0.2504 - accuracy: 0.5065 - val_loss: 0.2477 - val_accuracy: 0.5418\n",
            "Epoch 52/100\n",
            "44/44 [==============================] - 1s 29ms/step - loss: 0.2484 - accuracy: 0.5385 - val_loss: 0.2472 - val_accuracy: 0.5491\n",
            "Epoch 53/100\n",
            "44/44 [==============================] - 1s 29ms/step - loss: 0.2474 - accuracy: 0.5340 - val_loss: 0.2466 - val_accuracy: 0.5573\n",
            "Epoch 54/100\n",
            "44/44 [==============================] - 1s 29ms/step - loss: 0.2506 - accuracy: 0.5192 - val_loss: 0.2461 - val_accuracy: 0.5600\n",
            "Epoch 55/100\n",
            "44/44 [==============================] - 1s 29ms/step - loss: 0.2477 - accuracy: 0.5422 - val_loss: 0.2456 - val_accuracy: 0.5673\n",
            "Epoch 56/100\n",
            "44/44 [==============================] - 1s 29ms/step - loss: 0.2467 - accuracy: 0.5479 - val_loss: 0.2451 - val_accuracy: 0.5691\n",
            "Epoch 57/100\n",
            "44/44 [==============================] - 1s 29ms/step - loss: 0.2448 - accuracy: 0.5588 - val_loss: 0.2445 - val_accuracy: 0.5745\n",
            "Epoch 58/100\n",
            "44/44 [==============================] - 1s 30ms/step - loss: 0.2470 - accuracy: 0.5442 - val_loss: 0.2440 - val_accuracy: 0.5836\n",
            "Epoch 59/100\n",
            "44/44 [==============================] - 1s 33ms/step - loss: 0.2461 - accuracy: 0.5540 - val_loss: 0.2435 - val_accuracy: 0.5900\n",
            "Epoch 60/100\n",
            "44/44 [==============================] - 1s 32ms/step - loss: 0.2441 - accuracy: 0.5613 - val_loss: 0.2429 - val_accuracy: 0.5991\n",
            "Epoch 61/100\n",
            "44/44 [==============================] - 1s 31ms/step - loss: 0.2452 - accuracy: 0.5565 - val_loss: 0.2424 - val_accuracy: 0.6082\n",
            "Epoch 62/100\n",
            "44/44 [==============================] - 1s 30ms/step - loss: 0.2429 - accuracy: 0.5629 - val_loss: 0.2418 - val_accuracy: 0.6182\n",
            "Epoch 63/100\n",
            "44/44 [==============================] - 1s 30ms/step - loss: 0.2430 - accuracy: 0.5683 - val_loss: 0.2413 - val_accuracy: 0.6164\n",
            "Epoch 64/100\n",
            "44/44 [==============================] - 1s 34ms/step - loss: 0.2409 - accuracy: 0.5895 - val_loss: 0.2407 - val_accuracy: 0.6227\n",
            "Epoch 65/100\n",
            "44/44 [==============================] - 2s 35ms/step - loss: 0.2415 - accuracy: 0.5868 - val_loss: 0.2401 - val_accuracy: 0.6291\n",
            "Epoch 66/100\n",
            "44/44 [==============================] - 1s 31ms/step - loss: 0.2404 - accuracy: 0.5911 - val_loss: 0.2396 - val_accuracy: 0.6345\n",
            "Epoch 67/100\n",
            "44/44 [==============================] - 1s 34ms/step - loss: 0.2398 - accuracy: 0.5952 - val_loss: 0.2390 - val_accuracy: 0.6436\n",
            "Epoch 68/100\n",
            "44/44 [==============================] - 1s 31ms/step - loss: 0.2387 - accuracy: 0.6061 - val_loss: 0.2384 - val_accuracy: 0.6482\n",
            "Epoch 69/100\n",
            "44/44 [==============================] - 1s 29ms/step - loss: 0.2378 - accuracy: 0.6170 - val_loss: 0.2378 - val_accuracy: 0.6564\n",
            "Epoch 70/100\n",
            "44/44 [==============================] - 1s 29ms/step - loss: 0.2378 - accuracy: 0.6038 - val_loss: 0.2372 - val_accuracy: 0.6627\n",
            "Epoch 71/100\n",
            "44/44 [==============================] - 1s 30ms/step - loss: 0.2377 - accuracy: 0.6004 - val_loss: 0.2366 - val_accuracy: 0.6691\n",
            "Epoch 72/100\n",
            "44/44 [==============================] - 2s 35ms/step - loss: 0.2357 - accuracy: 0.6197 - val_loss: 0.2360 - val_accuracy: 0.6764\n",
            "Epoch 73/100\n",
            "44/44 [==============================] - 2s 35ms/step - loss: 0.2342 - accuracy: 0.6366 - val_loss: 0.2354 - val_accuracy: 0.6845\n",
            "Epoch 74/100\n",
            "44/44 [==============================] - 2s 34ms/step - loss: 0.2335 - accuracy: 0.6322 - val_loss: 0.2348 - val_accuracy: 0.6900\n",
            "Epoch 75/100\n",
            "44/44 [==============================] - 1s 32ms/step - loss: 0.2332 - accuracy: 0.6329 - val_loss: 0.2342 - val_accuracy: 0.7000\n",
            "Epoch 76/100\n",
            "44/44 [==============================] - 1s 29ms/step - loss: 0.2332 - accuracy: 0.6404 - val_loss: 0.2336 - val_accuracy: 0.7027\n",
            "Epoch 77/100\n",
            "44/44 [==============================] - 1s 29ms/step - loss: 0.2335 - accuracy: 0.6375 - val_loss: 0.2329 - val_accuracy: 0.7082\n",
            "Epoch 78/100\n",
            "44/44 [==============================] - 1s 30ms/step - loss: 0.2325 - accuracy: 0.6443 - val_loss: 0.2323 - val_accuracy: 0.7173\n",
            "Epoch 79/100\n",
            "44/44 [==============================] - 1s 29ms/step - loss: 0.2304 - accuracy: 0.6452 - val_loss: 0.2316 - val_accuracy: 0.7182\n",
            "Epoch 80/100\n",
            "44/44 [==============================] - 1s 29ms/step - loss: 0.2311 - accuracy: 0.6404 - val_loss: 0.2309 - val_accuracy: 0.7264\n",
            "Epoch 81/100\n",
            "44/44 [==============================] - 1s 29ms/step - loss: 0.2285 - accuracy: 0.6680 - val_loss: 0.2302 - val_accuracy: 0.7318\n",
            "Epoch 82/100\n",
            "44/44 [==============================] - 1s 29ms/step - loss: 0.2288 - accuracy: 0.6650 - val_loss: 0.2296 - val_accuracy: 0.7400\n",
            "Epoch 83/100\n",
            "44/44 [==============================] - 2s 45ms/step - loss: 0.2285 - accuracy: 0.6695 - val_loss: 0.2289 - val_accuracy: 0.7436\n",
            "Epoch 84/100\n",
            "44/44 [==============================] - 2s 35ms/step - loss: 0.2270 - accuracy: 0.6825 - val_loss: 0.2282 - val_accuracy: 0.7509\n",
            "Epoch 85/100\n",
            "44/44 [==============================] - 1s 29ms/step - loss: 0.2253 - accuracy: 0.6864 - val_loss: 0.2275 - val_accuracy: 0.7518\n",
            "Epoch 86/100\n",
            "44/44 [==============================] - 1s 29ms/step - loss: 0.2244 - accuracy: 0.6807 - val_loss: 0.2268 - val_accuracy: 0.7673\n",
            "Epoch 87/100\n",
            "44/44 [==============================] - 1s 29ms/step - loss: 0.2233 - accuracy: 0.6966 - val_loss: 0.2260 - val_accuracy: 0.7764\n",
            "Epoch 88/100\n",
            "44/44 [==============================] - 1s 29ms/step - loss: 0.2218 - accuracy: 0.6996 - val_loss: 0.2253 - val_accuracy: 0.7800\n",
            "Epoch 89/100\n",
            "44/44 [==============================] - 1s 29ms/step - loss: 0.2232 - accuracy: 0.6921 - val_loss: 0.2245 - val_accuracy: 0.7882\n",
            "Epoch 90/100\n",
            "44/44 [==============================] - 1s 34ms/step - loss: 0.2207 - accuracy: 0.7073 - val_loss: 0.2238 - val_accuracy: 0.7955\n",
            "Epoch 91/100\n",
            "44/44 [==============================] - 1s 32ms/step - loss: 0.2204 - accuracy: 0.7064 - val_loss: 0.2230 - val_accuracy: 0.7973\n",
            "Epoch 92/100\n",
            "44/44 [==============================] - 1s 29ms/step - loss: 0.2194 - accuracy: 0.7116 - val_loss: 0.2223 - val_accuracy: 0.8009\n",
            "Epoch 93/100\n",
            "44/44 [==============================] - 1s 29ms/step - loss: 0.2196 - accuracy: 0.7118 - val_loss: 0.2215 - val_accuracy: 0.8045\n",
            "Epoch 94/100\n",
            "44/44 [==============================] - 1s 29ms/step - loss: 0.2185 - accuracy: 0.7153 - val_loss: 0.2207 - val_accuracy: 0.8073\n",
            "Epoch 95/100\n",
            "44/44 [==============================] - 1s 29ms/step - loss: 0.2167 - accuracy: 0.7310 - val_loss: 0.2199 - val_accuracy: 0.8118\n",
            "Epoch 96/100\n",
            "44/44 [==============================] - 1s 29ms/step - loss: 0.2160 - accuracy: 0.7332 - val_loss: 0.2191 - val_accuracy: 0.8155\n",
            "Epoch 97/100\n",
            "44/44 [==============================] - 1s 29ms/step - loss: 0.2162 - accuracy: 0.7312 - val_loss: 0.2182 - val_accuracy: 0.8264\n",
            "Epoch 98/100\n",
            "44/44 [==============================] - 1s 32ms/step - loss: 0.2136 - accuracy: 0.7441 - val_loss: 0.2174 - val_accuracy: 0.8282\n",
            "Epoch 99/100\n",
            "44/44 [==============================] - 1s 30ms/step - loss: 0.2143 - accuracy: 0.7407 - val_loss: 0.2165 - val_accuracy: 0.8309\n",
            "Epoch 100/100\n",
            "44/44 [==============================] - 2s 36ms/step - loss: 0.2139 - accuracy: 0.7419 - val_loss: 0.2157 - val_accuracy: 0.8327\n"
          ]
        }
      ]
    },
    {
      "cell_type": "code",
      "source": [
        "plt.plot(history.history['accuracy'])\n",
        "plt.plot(history.history['val_accuracy'])\n",
        "plt.title('model accuracy')\n",
        "plt.ylabel('accuracy')\n",
        "plt.xlabel('epoch')\n",
        "plt.legend(['train', 'test'], loc='upper left')\n",
        "plt.show()\n",
        "# summarize history for loss\n",
        "plt.plot(history.history['loss'])\n",
        "plt.plot(history.history['val_loss'])\n",
        "plt.title('model loss')\n",
        "plt.ylabel('loss')\n",
        "plt.xlabel('epoch')\n",
        "plt.legend(['train', 'test'], loc='upper left')\n",
        "plt.show()"
      ],
      "metadata": {
        "id": "o821NyjmfOZN",
        "colab": {
          "base_uri": "https://localhost:8080/",
          "height": 573
        },
        "outputId": "a015d77a-0396-45bb-a84d-bf06beb1d7b8"
      },
      "execution_count": null,
      "outputs": [
        {
          "output_type": "display_data",
          "data": {
            "text/plain": [
              "<Figure size 432x288 with 1 Axes>"
            ],
            "image/png": "[encoded data removed]"
          },
          "metadata": {
            "needs_background": "light"
          }
        },
        {
          "output_type": "display_data",
          "data": {
            "text/plain": [
              "<Figure size 432x288 with 1 Axes>"
            ],
            "image/png": "[encoded data removed]"
          },
          "metadata": {
            "needs_background": "light"
          }
        }
      ]
    },
    {
      "cell_type": "code",
      "source": [
        "model.evaluate(x_test,y_test)"
      ],
      "metadata": {
        "colab": {
          "base_uri": "https://localhost:8080/"
        },
        "id": "0PS5C2Ty-dkq",
        "outputId": "d9b03d20-5ed2-461b-ca0c-3d05ebbfdb5f"
      },
      "execution_count": null,
      "outputs": [
        {
          "output_type": "stream",
          "name": "stdout",
          "text": [
            "72/72 [==============================] - 1s 9ms/step - loss: 0.2151 - accuracy: 0.8304\n"
          ]
        },
        {
          "output_type": "execute_result",
          "data": {
            "text/plain": [
              "[0.2150510847568512, 0.830361008644104]"
            ]
          },
          "metadata": {},
          "execution_count": 21
        }
      ]
    },
    {
      "cell_type": "code",
      "source": [
        "test_preds = model.predict(x_test).argmax(axis=1)\n",
        "confusion = tf.math.confusion_matrix(labels=y_test, predictions=test_preds, num_classes=2)\n",
        "print(confusion)"
      ],
      "metadata": {
        "colab": {
          "base_uri": "https://localhost:8080/"
        },
        "id": "3kdppLrNmUUA",
        "outputId": "c47d9283-673c-4289-fcab-ed3a99c72ea1"
      },
      "execution_count": null,
      "outputs": [
        {
          "output_type": "stream",
          "name": "stdout",
          "text": [
            "tf.Tensor(\n",
            "[[2040    0]\n",
            " [ 259    0]], shape=(2, 2), dtype=int32)\n"
          ]
        }
      ]
    }
  ]
}