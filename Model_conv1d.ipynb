{
  "nbformat": 4,
  "nbformat_minor": 0,
  "metadata": {
    "colab": {
      "name": "Model_conv1d.ipynb",
      "provenance": [],
      "collapsed_sections": [],
      "include_colab_link": true
    },
    "kernelspec": {
      "display_name": "Python 3",
      "name": "python3"
    },
    "language_info": {
      "name": "python"
    }
  },
  "cells": [
    {
      "cell_type": "markdown",
      "metadata": {
        "id": "view-in-github",
        "colab_type": "text"
      },
      "source": [
        "<a href=\"https://colab.research.google.com/github/alexanderVarg/TRABAJO_FINAL/blob/main/Model_conv1d.ipynb\" target=\"_parent\"><img src=\"https://colab.research.google.com/assets/colab-badge.svg\" alt=\"Open In Colab\"/></a>"
      ]
    },
    {
      "cell_type": "markdown",
      "metadata": {
        "id": "YrA257EPL4UO"
      },
      "source": [
        "#PHYSICAL, CHEMICAL AND BIOLOGICAL VARIABLES FOR WATER QUALITY"
      ]
    },
    {
      "cell_type": "code",
      "metadata": {
        "id": "AWoZ1PJNHYjn"
      },
      "source": [
        "import numpy as np\n",
        "import pandas as pd\n",
        "import tensorflow as tf\n",
        "from tensorflow import keras\n",
        "from keras import layers\n",
        "from matplotlib import pyplot as plt"
      ],
      "execution_count": null,
      "outputs": []
    },
    {
      "cell_type": "code",
      "metadata": {
        "id": "66EC8QAtIg2_",
        "colab": {
          "base_uri": "https://localhost:8080/"
        },
        "outputId": "03aea38f-f61b-4f81-8f34-197d729fa666"
      },
      "source": [
        "# read data\n",
        "df = pd.read_csv(\"/content/waterQuality_scaled.csv\")\n",
        "df.shape"
      ],
      "execution_count": null,
      "outputs": [
        {
          "output_type": "execute_result",
          "data": {
            "text/plain": [
              "(7996, 21)"
            ]
          },
          "metadata": {},
          "execution_count": 83
        }
      ]
    },
    {
      "cell_type": "code",
      "metadata": {
        "id": "KDXibawumF4g"
      },
      "source": [
        "# create dataset without response column\n",
        "df_x=df.iloc[:,0:20]\n",
        "# create dataset with only response column (is_safe)\n",
        "df_y = df.iloc[:,-1]\n"
      ],
      "execution_count": null,
      "outputs": []
    },
    {
      "cell_type": "markdown",
      "metadata": {
        "id": "r9_22cCItWro"
      },
      "source": [
        "# Variable selection\n",
        "All variables were used to train the model "
      ]
    },
    {
      "cell_type": "code",
      "source": [
        "from sklearn.model_selection import train_test_split\n",
        "df_x_train, df_x_test, y_train, y_test = train_test_split(df_x, df_y, test_size=.30)\n",
        "\n",
        "# the last 100 records of each data set are not evaluated:\n",
        "y_train = y_train.iloc[:-100]\n",
        "y_test= y_test.iloc[:-100]\n",
        "# Show the quantities of both classes: 0 and 1\n",
        "print (\"\\ndistribution of train classes\")\n",
        "print (pd.Series(y_train).value_counts())\n",
        "print (\"\\ndistribution of test classes\")\n",
        "print (pd.Series(y_test).value_counts())"
      ],
      "metadata": {
        "colab": {
          "base_uri": "https://localhost:8080/"
        },
        "id": "kSS9AaxGObgW",
        "outputId": "cd168910-a863-4e85-f9b4-41a33ad36325"
      },
      "execution_count": null,
      "outputs": [
        {
          "output_type": "stream",
          "name": "stdout",
          "text": [
            "\n",
            "distribution of train classes\n",
            "0.0    4856\n",
            "1.0     641\n",
            "Name: is_safe, dtype: int64\n",
            "\n",
            "distribution of test classes\n",
            "0.0    2057\n",
            "1.0     242\n",
            "Name: is_safe, dtype: int64\n"
          ]
        }
      ]
    },
    {
      "cell_type": "markdown",
      "metadata": {
        "id": "tiQhcWR-wJcB"
      },
      "source": [
        "# deep learning model"
      ]
    },
    {
      "cell_type": "markdown",
      "metadata": {
        "id": "LhcE35RTOadB"
      },
      "source": [
        "**Generate training sequences**\n",
        "\n",
        "The data is in the form (n_samples, n_features) and must be transformed to the form (n_samples, n_times, n_features) with a window n_times equal to 100 samples."
      ]
    },
    {
      "cell_type": "code",
      "metadata": {
        "id": "3RiN4s3pVbyV",
        "colab": {
          "base_uri": "https://localhost:8080/",
          "height": 317
        },
        "outputId": "dd79b742-4fac-4187-89cb-bac9440d2f2b"
      },
      "source": [
        "from IPython.display import Image\n",
        "Image('/content/Transformar_datos.PNG', width=600, height=300)"
      ],
      "execution_count": null,
      "outputs": [
        {
          "output_type": "execute_result",
          "data": {
            "text/plain": [
              "<IPython.core.display.Image object>"
            ],
            "image/png": "[encoded data removed]"
          },
          "metadata": {
            "image/png": {
              "width": 600,
              "height": 300
            }
          },
          "execution_count": 86
        }
      ]
    },
    {
      "cell_type": "code",
      "metadata": {
        "id": "zbLItxCRgAwv"
      },
      "source": [
        "# Generate training sequence\n",
        "def create_sequences(values, n_samples, n_times, n_features):\n",
        "    output = np.zeros( (n_samples-n_times, n_times, n_features) )\n",
        "    for j in range(1, n_features):\n",
        "        features = []\n",
        "        for i in range(n_samples - n_times):\n",
        "            output[i,:,j]=values[i : (i + n_times),j]\n",
        "    return output"
      ],
      "execution_count": null,
      "outputs": []
    },
    {
      "cell_type": "code",
      "metadata": {
        "id": "4EVTq-geRgMb"
      },
      "source": [
        "# Model CONV1D\n",
        "def model1(X):\n",
        "    import tensorflow as tf\n",
        "    from numpy import array\n",
        "    from keras.models import Sequential\n",
        "    from keras.layers import Dense\n",
        "    from keras.layers import Flatten\n",
        "    from keras.layers.convolutional import Conv1D\n",
        "    from keras.layers.convolutional import MaxPooling1D\n",
        "    model = keras.Sequential(\n",
        "        [ \n",
        "            layers.Conv1D( filters=32, kernel_size=3, padding=\"same\", strides=1, activation=\"relu\", input_shape=(x_train.shape[1], x_train.shape[2])),\n",
        "            layers.Dropout(rate=0.2), \n",
        "            layers.Conv1D( filters=16, kernel_size=3, padding=\"same\", strides=1, activation=\"relu\" ),\n",
        "            layers.Dropout(rate=0.2), \n",
        "            layers.Conv1D( filters=8, kernel_size=3, padding=\"same\", strides=1, activation=\"relu\" ),\n",
        "            layers.Dropout(rate=0.2), \n",
        "            layers.Flatten(),\n",
        "            layers.Dense( 1, activation= 'sigmoid')  \n",
        "        ]\n",
        "    )\n",
        "    return model\n",
        "    "
      ],
      "execution_count": null,
      "outputs": []
    },
    {
      "cell_type": "code",
      "source": [
        "model= model1(x_train)"
      ],
      "metadata": {
        "id": "4Zhv34i3VcbT"
      },
      "execution_count": null,
      "outputs": []
    },
    {
      "cell_type": "code",
      "source": [
        "model.summary()"
      ],
      "metadata": {
        "id": "3ukDYfzP9t_7",
        "colab": {
          "base_uri": "https://localhost:8080/"
        },
        "outputId": "5da193e6-4ed1-41a3-bf26-25555ea589f2"
      },
      "execution_count": null,
      "outputs": [
        {
          "output_type": "stream",
          "name": "stdout",
          "text": [
            "Model: \"sequential_6\"\n",
            "_________________________________________________________________\n",
            " Layer (type)                Output Shape              Param #   \n",
            "=================================================================\n",
            " conv1d_18 (Conv1D)          (None, 100, 32)           1952      \n",
            "                                                                 \n",
            " dropout_18 (Dropout)        (None, 100, 32)           0         \n",
            "                                                                 \n",
            " conv1d_19 (Conv1D)          (None, 100, 16)           1552      \n",
            "                                                                 \n",
            " dropout_19 (Dropout)        (None, 100, 16)           0         \n",
            "                                                                 \n",
            " conv1d_20 (Conv1D)          (None, 100, 8)            392       \n",
            "                                                                 \n",
            " dropout_20 (Dropout)        (None, 100, 8)            0         \n",
            "                                                                 \n",
            " flatten_6 (Flatten)         (None, 800)               0         \n",
            "                                                                 \n",
            " dense_6 (Dense)             (None, 1)                 801       \n",
            "                                                                 \n",
            "=================================================================\n",
            "Total params: 4,697\n",
            "Trainable params: 4,697\n",
            "Non-trainable params: 0\n",
            "_________________________________________________________________\n"
          ]
        }
      ]
    },
    {
      "cell_type": "code",
      "metadata": {
        "id": "fRMIyRAd0Ol8",
        "colab": {
          "base_uri": "https://localhost:8080/"
        },
        "outputId": "9f966b48-2601-42e2-8a6c-ef6dceb0cc32"
      },
      "source": [
        "# Generate x_train sequence so that the model can determine the shape of the input and output\n",
        "df_training = np.array(df_x_train)\n",
        "N_SAMPLES= df_training.shape[0] \n",
        "N_TIMES = 100 \n",
        "N_FEATURES = df_training.shape[1]  \n",
        "x_train= create_sequences(df_training, N_SAMPLES, N_TIMES, N_FEATURES)\n",
        "x_train = x_train.astype(np.float32)\n",
        "x_train.shape"
      ],
      "execution_count": null,
      "outputs": [
        {
          "output_type": "execute_result",
          "data": {
            "text/plain": [
              "(5497, 100, 20)"
            ]
          },
          "metadata": {},
          "execution_count": 91
        }
      ]
    },
    {
      "cell_type": "code",
      "source": [
        "# Generate x_test sequence \n",
        "df_testing = np.array(df_x_test)\n",
        "N_SAMPLES= df_testing.shape[0] \n",
        "N_TIMES = 100 \n",
        "N_FEATURES = df_testing.shape[1]  \n",
        "x_test= create_sequences(df_testing, N_SAMPLES, N_TIMES, N_FEATURES)\n",
        "x_test = x_test.astype(np.float32)\n",
        "x_test.shape"
      ],
      "metadata": {
        "colab": {
          "base_uri": "https://localhost:8080/"
        },
        "id": "WUGYT2CvcRdb",
        "outputId": "485a22e1-1e48-4746-f2f2-9588fd4346b7"
      },
      "execution_count": null,
      "outputs": [
        {
          "output_type": "execute_result",
          "data": {
            "text/plain": [
              "(2299, 100, 20)"
            ]
          },
          "metadata": {},
          "execution_count": 92
        }
      ]
    },
    {
      "cell_type": "markdown",
      "metadata": {
        "id": "diYUwvQPXizY"
      },
      "source": [
        "**Compile the model**"
      ]
    },
    {
      "cell_type": "code",
      "source": [
        "model= model1(x_train)\n",
        "model.compile(optimizer=keras.optimizers.Adam(learning_rate=1e-6), loss=\"mse\", metrics=['accuracy'])\n"
      ],
      "metadata": {
        "id": "8MXSxf1yxGmb"
      },
      "execution_count": null,
      "outputs": []
    },
    {
      "cell_type": "code",
      "source": [
        "#train the model"
      ],
      "metadata": {
        "id": "SjiwU_UT2kaM"
      },
      "execution_count": null,
      "outputs": []
    },
    {
      "cell_type": "code",
      "source": [
        "history = model.fit(\n",
        "            x_train,\n",
        "            y_train,\n",
        "            epochs = 100,\n",
        "            batch_size=100,\n",
        "            validation_split=0.2,\n",
        "            callbacks=[keras.callbacks.EarlyStopping(monitor=\"val_loss\", patience=5, mode=\"min\")]\n",
        "        ) "
      ],
      "metadata": {
        "colab": {
          "base_uri": "https://localhost:8080/"
        },
        "id": "AWN7JlOixPvP",
        "outputId": "7866e7e6-38ff-414e-90fa-0391a6d48e3c"
      },
      "execution_count": null,
      "outputs": [
        {
          "output_type": "stream",
          "name": "stdout",
          "text": [
            "Epoch 1/100\n",
            "44/44 [==============================] - 3s 41ms/step - loss: 0.2764 - accuracy: 0.3575 - val_loss: 0.2714 - val_accuracy: 0.2473\n",
            "Epoch 2/100\n",
            "44/44 [==============================] - 2s 35ms/step - loss: 0.2784 - accuracy: 0.3411 - val_loss: 0.2703 - val_accuracy: 0.2600\n",
            "Epoch 3/100\n",
            "44/44 [==============================] - 2s 35ms/step - loss: 0.2768 - accuracy: 0.3525 - val_loss: 0.2692 - val_accuracy: 0.2645\n",
            "Epoch 4/100\n",
            "44/44 [==============================] - 2s 36ms/step - loss: 0.2734 - accuracy: 0.3793 - val_loss: 0.2681 - val_accuracy: 0.2864\n",
            "Epoch 5/100\n",
            "44/44 [==============================] - 2s 35ms/step - loss: 0.2732 - accuracy: 0.3689 - val_loss: 0.2670 - val_accuracy: 0.2955\n",
            "Epoch 6/100\n",
            "44/44 [==============================] - 2s 37ms/step - loss: 0.2720 - accuracy: 0.3730 - val_loss: 0.2659 - val_accuracy: 0.3118\n",
            "Epoch 7/100\n",
            "44/44 [==============================] - 2s 35ms/step - loss: 0.2701 - accuracy: 0.3925 - val_loss: 0.2648 - val_accuracy: 0.3127\n",
            "Epoch 8/100\n",
            "44/44 [==============================] - 2s 36ms/step - loss: 0.2679 - accuracy: 0.4021 - val_loss: 0.2638 - val_accuracy: 0.3255\n",
            "Epoch 9/100\n",
            "44/44 [==============================] - 2s 37ms/step - loss: 0.2679 - accuracy: 0.3907 - val_loss: 0.2627 - val_accuracy: 0.3355\n",
            "Epoch 10/100\n",
            "44/44 [==============================] - 2s 37ms/step - loss: 0.2647 - accuracy: 0.4182 - val_loss: 0.2616 - val_accuracy: 0.3427\n",
            "Epoch 11/100\n",
            "44/44 [==============================] - 2s 35ms/step - loss: 0.2653 - accuracy: 0.4191 - val_loss: 0.2606 - val_accuracy: 0.3564\n",
            "Epoch 12/100\n",
            "44/44 [==============================] - 2s 36ms/step - loss: 0.2647 - accuracy: 0.4185 - val_loss: 0.2595 - val_accuracy: 0.3755\n",
            "Epoch 13/100\n",
            "44/44 [==============================] - 2s 36ms/step - loss: 0.2623 - accuracy: 0.4503 - val_loss: 0.2585 - val_accuracy: 0.3836\n",
            "Epoch 14/100\n",
            "44/44 [==============================] - 2s 35ms/step - loss: 0.2607 - accuracy: 0.4480 - val_loss: 0.2574 - val_accuracy: 0.3991\n",
            "Epoch 15/100\n",
            "44/44 [==============================] - 2s 37ms/step - loss: 0.2610 - accuracy: 0.4480 - val_loss: 0.2564 - val_accuracy: 0.4182\n",
            "Epoch 16/100\n",
            "44/44 [==============================] - 2s 35ms/step - loss: 0.2583 - accuracy: 0.4628 - val_loss: 0.2553 - val_accuracy: 0.4309\n",
            "Epoch 17/100\n",
            "44/44 [==============================] - 2s 38ms/step - loss: 0.2578 - accuracy: 0.4719 - val_loss: 0.2543 - val_accuracy: 0.4473\n",
            "Epoch 18/100\n",
            "44/44 [==============================] - 2s 37ms/step - loss: 0.2574 - accuracy: 0.4680 - val_loss: 0.2532 - val_accuracy: 0.4627\n",
            "Epoch 19/100\n",
            "44/44 [==============================] - 2s 38ms/step - loss: 0.2568 - accuracy: 0.4776 - val_loss: 0.2522 - val_accuracy: 0.4736\n",
            "Epoch 20/100\n",
            "44/44 [==============================] - 2s 37ms/step - loss: 0.2545 - accuracy: 0.4987 - val_loss: 0.2512 - val_accuracy: 0.4836\n",
            "Epoch 21/100\n",
            "44/44 [==============================] - 1s 34ms/step - loss: 0.2528 - accuracy: 0.5022 - val_loss: 0.2501 - val_accuracy: 0.4973\n",
            "Epoch 22/100\n",
            "44/44 [==============================] - 2s 36ms/step - loss: 0.2512 - accuracy: 0.5138 - val_loss: 0.2491 - val_accuracy: 0.5145\n",
            "Epoch 23/100\n",
            "44/44 [==============================] - 2s 36ms/step - loss: 0.2503 - accuracy: 0.5172 - val_loss: 0.2480 - val_accuracy: 0.5227\n",
            "Epoch 24/100\n",
            "44/44 [==============================] - 2s 36ms/step - loss: 0.2485 - accuracy: 0.5324 - val_loss: 0.2470 - val_accuracy: 0.5318\n",
            "Epoch 25/100\n",
            "44/44 [==============================] - 2s 36ms/step - loss: 0.2497 - accuracy: 0.5335 - val_loss: 0.2459 - val_accuracy: 0.5482\n",
            "Epoch 26/100\n",
            "44/44 [==============================] - 2s 35ms/step - loss: 0.2464 - accuracy: 0.5481 - val_loss: 0.2449 - val_accuracy: 0.5645\n",
            "Epoch 27/100\n",
            "44/44 [==============================] - 2s 36ms/step - loss: 0.2459 - accuracy: 0.5408 - val_loss: 0.2438 - val_accuracy: 0.5800\n",
            "Epoch 28/100\n",
            "44/44 [==============================] - 2s 37ms/step - loss: 0.2434 - accuracy: 0.5656 - val_loss: 0.2428 - val_accuracy: 0.5982\n",
            "Epoch 29/100\n",
            "44/44 [==============================] - 2s 36ms/step - loss: 0.2425 - accuracy: 0.5768 - val_loss: 0.2417 - val_accuracy: 0.6045\n",
            "Epoch 30/100\n",
            "44/44 [==============================] - 2s 35ms/step - loss: 0.2423 - accuracy: 0.5704 - val_loss: 0.2407 - val_accuracy: 0.6136\n",
            "Epoch 31/100\n",
            "44/44 [==============================] - 2s 35ms/step - loss: 0.2413 - accuracy: 0.5897 - val_loss: 0.2396 - val_accuracy: 0.6273\n",
            "Epoch 32/100\n",
            "44/44 [==============================] - 2s 36ms/step - loss: 0.2409 - accuracy: 0.5870 - val_loss: 0.2385 - val_accuracy: 0.6473\n",
            "Epoch 33/100\n",
            "44/44 [==============================] - 2s 35ms/step - loss: 0.2388 - accuracy: 0.6045 - val_loss: 0.2375 - val_accuracy: 0.6691\n",
            "Epoch 34/100\n",
            "44/44 [==============================] - 2s 35ms/step - loss: 0.2380 - accuracy: 0.6109 - val_loss: 0.2364 - val_accuracy: 0.6864\n",
            "Epoch 35/100\n",
            "44/44 [==============================] - 2s 35ms/step - loss: 0.2367 - accuracy: 0.6081 - val_loss: 0.2353 - val_accuracy: 0.6982\n",
            "Epoch 36/100\n",
            "44/44 [==============================] - 2s 37ms/step - loss: 0.2349 - accuracy: 0.6234 - val_loss: 0.2342 - val_accuracy: 0.7155\n",
            "Epoch 37/100\n",
            "44/44 [==============================] - 2s 35ms/step - loss: 0.2332 - accuracy: 0.6404 - val_loss: 0.2331 - val_accuracy: 0.7364\n",
            "Epoch 38/100\n",
            "44/44 [==============================] - 2s 35ms/step - loss: 0.2327 - accuracy: 0.6404 - val_loss: 0.2320 - val_accuracy: 0.7500\n",
            "Epoch 39/100\n",
            "44/44 [==============================] - 1s 34ms/step - loss: 0.2316 - accuracy: 0.6470 - val_loss: 0.2310 - val_accuracy: 0.7600\n",
            "Epoch 40/100\n",
            "44/44 [==============================] - 2s 35ms/step - loss: 0.2300 - accuracy: 0.6554 - val_loss: 0.2299 - val_accuracy: 0.7718\n",
            "Epoch 41/100\n",
            "44/44 [==============================] - 1s 34ms/step - loss: 0.2296 - accuracy: 0.6543 - val_loss: 0.2288 - val_accuracy: 0.7809\n",
            "Epoch 42/100\n",
            "44/44 [==============================] - 2s 35ms/step - loss: 0.2274 - accuracy: 0.6736 - val_loss: 0.2277 - val_accuracy: 0.7918\n",
            "Epoch 43/100\n",
            "44/44 [==============================] - 2s 35ms/step - loss: 0.2266 - accuracy: 0.6796 - val_loss: 0.2266 - val_accuracy: 0.8027\n",
            "Epoch 44/100\n",
            "44/44 [==============================] - 2s 35ms/step - loss: 0.2249 - accuracy: 0.6880 - val_loss: 0.2255 - val_accuracy: 0.8155\n",
            "Epoch 45/100\n",
            "44/44 [==============================] - 2s 35ms/step - loss: 0.2240 - accuracy: 0.6930 - val_loss: 0.2244 - val_accuracy: 0.8245\n",
            "Epoch 46/100\n",
            "44/44 [==============================] - 2s 35ms/step - loss: 0.2229 - accuracy: 0.6932 - val_loss: 0.2233 - val_accuracy: 0.8345\n",
            "Epoch 47/100\n",
            "44/44 [==============================] - 2s 34ms/step - loss: 0.2211 - accuracy: 0.7025 - val_loss: 0.2222 - val_accuracy: 0.8427\n",
            "Epoch 48/100\n",
            "44/44 [==============================] - 2s 35ms/step - loss: 0.2212 - accuracy: 0.7016 - val_loss: 0.2210 - val_accuracy: 0.8509\n",
            "Epoch 49/100\n",
            "44/44 [==============================] - 2s 35ms/step - loss: 0.2181 - accuracy: 0.7141 - val_loss: 0.2199 - val_accuracy: 0.8545\n",
            "Epoch 50/100\n",
            "44/44 [==============================] - 1s 34ms/step - loss: 0.2173 - accuracy: 0.7257 - val_loss: 0.2188 - val_accuracy: 0.8591\n",
            "Epoch 51/100\n",
            "44/44 [==============================] - 2s 34ms/step - loss: 0.2173 - accuracy: 0.7289 - val_loss: 0.2177 - val_accuracy: 0.8591\n",
            "Epoch 52/100\n",
            "44/44 [==============================] - 2s 34ms/step - loss: 0.2160 - accuracy: 0.7314 - val_loss: 0.2165 - val_accuracy: 0.8609\n",
            "Epoch 53/100\n",
            "44/44 [==============================] - 2s 34ms/step - loss: 0.2115 - accuracy: 0.7532 - val_loss: 0.2154 - val_accuracy: 0.8618\n",
            "Epoch 54/100\n",
            "44/44 [==============================] - 2s 35ms/step - loss: 0.2113 - accuracy: 0.7587 - val_loss: 0.2143 - val_accuracy: 0.8655\n",
            "Epoch 55/100\n",
            "44/44 [==============================] - 2s 34ms/step - loss: 0.2112 - accuracy: 0.7530 - val_loss: 0.2131 - val_accuracy: 0.8709\n",
            "Epoch 56/100\n",
            "44/44 [==============================] - 2s 51ms/step - loss: 0.2102 - accuracy: 0.7617 - val_loss: 0.2120 - val_accuracy: 0.8727\n",
            "Epoch 57/100\n",
            "44/44 [==============================] - 2s 44ms/step - loss: 0.2084 - accuracy: 0.7630 - val_loss: 0.2108 - val_accuracy: 0.8727\n",
            "Epoch 58/100\n",
            "44/44 [==============================] - 2s 34ms/step - loss: 0.2077 - accuracy: 0.7742 - val_loss: 0.2097 - val_accuracy: 0.8745\n",
            "Epoch 59/100\n",
            "44/44 [==============================] - 2s 35ms/step - loss: 0.2057 - accuracy: 0.7805 - val_loss: 0.2085 - val_accuracy: 0.8791\n",
            "Epoch 60/100\n",
            "44/44 [==============================] - 2s 35ms/step - loss: 0.2044 - accuracy: 0.7808 - val_loss: 0.2074 - val_accuracy: 0.8791\n",
            "Epoch 61/100\n",
            "44/44 [==============================] - 2s 34ms/step - loss: 0.2039 - accuracy: 0.7860 - val_loss: 0.2062 - val_accuracy: 0.8818\n",
            "Epoch 62/100\n",
            "44/44 [==============================] - 2s 35ms/step - loss: 0.2033 - accuracy: 0.7876 - val_loss: 0.2050 - val_accuracy: 0.8845\n",
            "Epoch 63/100\n",
            "44/44 [==============================] - 2s 34ms/step - loss: 0.2014 - accuracy: 0.7935 - val_loss: 0.2039 - val_accuracy: 0.8845\n",
            "Epoch 64/100\n",
            "44/44 [==============================] - 2s 34ms/step - loss: 0.2013 - accuracy: 0.7971 - val_loss: 0.2027 - val_accuracy: 0.8855\n",
            "Epoch 65/100\n",
            "44/44 [==============================] - 2s 36ms/step - loss: 0.1976 - accuracy: 0.8067 - val_loss: 0.2015 - val_accuracy: 0.8855\n",
            "Epoch 66/100\n",
            "44/44 [==============================] - 2s 35ms/step - loss: 0.1972 - accuracy: 0.8087 - val_loss: 0.2003 - val_accuracy: 0.8855\n",
            "Epoch 67/100\n",
            "44/44 [==============================] - 2s 35ms/step - loss: 0.1950 - accuracy: 0.8112 - val_loss: 0.1992 - val_accuracy: 0.8855\n",
            "Epoch 68/100\n",
            "44/44 [==============================] - 2s 35ms/step - loss: 0.1940 - accuracy: 0.8176 - val_loss: 0.1980 - val_accuracy: 0.8864\n",
            "Epoch 69/100\n",
            "44/44 [==============================] - 2s 36ms/step - loss: 0.1951 - accuracy: 0.8212 - val_loss: 0.1968 - val_accuracy: 0.8864\n",
            "Epoch 70/100\n",
            "44/44 [==============================] - 2s 35ms/step - loss: 0.1926 - accuracy: 0.8253 - val_loss: 0.1956 - val_accuracy: 0.8864\n",
            "Epoch 71/100\n",
            "44/44 [==============================] - 2s 35ms/step - loss: 0.1913 - accuracy: 0.8196 - val_loss: 0.1944 - val_accuracy: 0.8864\n",
            "Epoch 72/100\n",
            "44/44 [==============================] - 2s 36ms/step - loss: 0.1901 - accuracy: 0.8294 - val_loss: 0.1933 - val_accuracy: 0.8873\n",
            "Epoch 73/100\n",
            "44/44 [==============================] - 2s 35ms/step - loss: 0.1897 - accuracy: 0.8301 - val_loss: 0.1921 - val_accuracy: 0.8873\n",
            "Epoch 74/100\n",
            "44/44 [==============================] - 2s 36ms/step - loss: 0.1865 - accuracy: 0.8358 - val_loss: 0.1909 - val_accuracy: 0.8873\n",
            "Epoch 75/100\n",
            "44/44 [==============================] - 2s 37ms/step - loss: 0.1865 - accuracy: 0.8358 - val_loss: 0.1897 - val_accuracy: 0.8864\n",
            "Epoch 76/100\n",
            "44/44 [==============================] - 2s 36ms/step - loss: 0.1839 - accuracy: 0.8494 - val_loss: 0.1885 - val_accuracy: 0.8864\n",
            "Epoch 77/100\n",
            "44/44 [==============================] - 2s 35ms/step - loss: 0.1835 - accuracy: 0.8408 - val_loss: 0.1873 - val_accuracy: 0.8864\n",
            "Epoch 78/100\n",
            "44/44 [==============================] - 2s 35ms/step - loss: 0.1827 - accuracy: 0.8424 - val_loss: 0.1861 - val_accuracy: 0.8864\n",
            "Epoch 79/100\n",
            "44/44 [==============================] - 2s 34ms/step - loss: 0.1816 - accuracy: 0.8497 - val_loss: 0.1849 - val_accuracy: 0.8864\n",
            "Epoch 80/100\n",
            "44/44 [==============================] - 2s 35ms/step - loss: 0.1799 - accuracy: 0.8442 - val_loss: 0.1837 - val_accuracy: 0.8864\n",
            "Epoch 81/100\n",
            "44/44 [==============================] - 2s 35ms/step - loss: 0.1792 - accuracy: 0.8499 - val_loss: 0.1825 - val_accuracy: 0.8864\n",
            "Epoch 82/100\n",
            "44/44 [==============================] - 2s 36ms/step - loss: 0.1777 - accuracy: 0.8544 - val_loss: 0.1814 - val_accuracy: 0.8864\n",
            "Epoch 83/100\n",
            "44/44 [==============================] - 2s 35ms/step - loss: 0.1760 - accuracy: 0.8567 - val_loss: 0.1802 - val_accuracy: 0.8864\n",
            "Epoch 84/100\n",
            "44/44 [==============================] - 2s 35ms/step - loss: 0.1756 - accuracy: 0.8558 - val_loss: 0.1790 - val_accuracy: 0.8864\n",
            "Epoch 85/100\n",
            "44/44 [==============================] - 2s 35ms/step - loss: 0.1752 - accuracy: 0.8558 - val_loss: 0.1778 - val_accuracy: 0.8864\n",
            "Epoch 86/100\n",
            "44/44 [==============================] - 2s 35ms/step - loss: 0.1740 - accuracy: 0.8560 - val_loss: 0.1766 - val_accuracy: 0.8864\n",
            "Epoch 87/100\n",
            "44/44 [==============================] - 2s 34ms/step - loss: 0.1724 - accuracy: 0.8638 - val_loss: 0.1754 - val_accuracy: 0.8864\n",
            "Epoch 88/100\n",
            "44/44 [==============================] - 2s 35ms/step - loss: 0.1713 - accuracy: 0.8606 - val_loss: 0.1742 - val_accuracy: 0.8864\n",
            "Epoch 89/100\n",
            "44/44 [==============================] - 2s 36ms/step - loss: 0.1705 - accuracy: 0.8585 - val_loss: 0.1731 - val_accuracy: 0.8864\n",
            "Epoch 90/100\n",
            "44/44 [==============================] - 2s 35ms/step - loss: 0.1670 - accuracy: 0.8685 - val_loss: 0.1719 - val_accuracy: 0.8864\n",
            "Epoch 91/100\n",
            "44/44 [==============================] - 2s 35ms/step - loss: 0.1679 - accuracy: 0.8676 - val_loss: 0.1707 - val_accuracy: 0.8864\n",
            "Epoch 92/100\n",
            "44/44 [==============================] - 2s 35ms/step - loss: 0.1663 - accuracy: 0.8660 - val_loss: 0.1696 - val_accuracy: 0.8864\n",
            "Epoch 93/100\n",
            "44/44 [==============================] - 2s 35ms/step - loss: 0.1655 - accuracy: 0.8667 - val_loss: 0.1684 - val_accuracy: 0.8864\n",
            "Epoch 94/100\n",
            "44/44 [==============================] - 2s 35ms/step - loss: 0.1644 - accuracy: 0.8715 - val_loss: 0.1672 - val_accuracy: 0.8864\n",
            "Epoch 95/100\n",
            "44/44 [==============================] - 2s 36ms/step - loss: 0.1633 - accuracy: 0.8701 - val_loss: 0.1661 - val_accuracy: 0.8864\n",
            "Epoch 96/100\n",
            "44/44 [==============================] - 2s 35ms/step - loss: 0.1616 - accuracy: 0.8679 - val_loss: 0.1649 - val_accuracy: 0.8864\n",
            "Epoch 97/100\n",
            "44/44 [==============================] - 1s 34ms/step - loss: 0.1615 - accuracy: 0.8685 - val_loss: 0.1638 - val_accuracy: 0.8864\n",
            "Epoch 98/100\n",
            "44/44 [==============================] - 2s 35ms/step - loss: 0.1592 - accuracy: 0.8747 - val_loss: 0.1627 - val_accuracy: 0.8864\n",
            "Epoch 99/100\n",
            "44/44 [==============================] - 2s 35ms/step - loss: 0.1579 - accuracy: 0.8758 - val_loss: 0.1615 - val_accuracy: 0.8864\n",
            "Epoch 100/100\n",
            "44/44 [==============================] - 2s 34ms/step - loss: 0.1564 - accuracy: 0.8751 - val_loss: 0.1604 - val_accuracy: 0.8864\n"
          ]
        }
      ]
    },
    {
      "cell_type": "code",
      "source": [
        "plt.plot(history.history['accuracy'])\n",
        "plt.plot(history.history['val_accuracy'])\n",
        "plt.title('model accuracy')\n",
        "plt.ylabel('accuracy')\n",
        "plt.xlabel('epoch')\n",
        "plt.legend(['train', 'test'], loc='upper left')\n",
        "plt.show()\n",
        "# summarize history for loss\n",
        "plt.plot(history.history['loss'])\n",
        "plt.plot(history.history['val_loss'])\n",
        "plt.title('model loss')\n",
        "plt.ylabel('loss')\n",
        "plt.xlabel('epoch')\n",
        "plt.legend(['train', 'test'], loc='upper left')\n",
        "plt.show()"
      ],
      "metadata": {
        "id": "o821NyjmfOZN",
        "colab": {
          "base_uri": "https://localhost:8080/",
          "height": 573
        },
        "outputId": "0125908e-5733-4a93-cf70-8ea90ec4d164"
      },
      "execution_count": null,
      "outputs": [
        {
          "output_type": "display_data",
          "data": {
            "text/plain": [
              "<Figure size 432x288 with 1 Axes>"
            ],
            "image/png": "[encoded data removed]"
          },
          "metadata": {
            "needs_background": "light"
          }
        },
        {
          "output_type": "display_data",
          "data": {
            "text/plain": [
              "<Figure size 432x288 with 1 Axes>"
            ],
            "image/png": "[encoded data removed]"
          },
          "metadata": {
            "needs_background": "light"
          }
        }
      ]
    },
    {
      "cell_type": "code",
      "source": [
        "test_preds = model.predict(x_test).argmax(axis=1)\n",
        "confusion = tf.math.confusion_matrix(labels=y_test, predictions=test_preds, num_classes=2)\n",
        "print(confusion)"
      ],
      "metadata": {
        "colab": {
          "base_uri": "https://localhost:8080/"
        },
        "id": "3kdppLrNmUUA",
        "outputId": "fc27ecb6-6d76-444c-f661-d75782a95891"
      },
      "execution_count": null,
      "outputs": [
        {
          "output_type": "stream",
          "name": "stdout",
          "text": [
            "tf.Tensor(\n",
            "[[2057    0]\n",
            " [ 242    0]], shape=(2, 2), dtype=int32)\n"
          ]
        }
      ]
    }
  ]
}